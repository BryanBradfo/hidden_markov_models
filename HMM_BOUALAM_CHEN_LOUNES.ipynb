{
  "nbformat": 4,
  "nbformat_minor": 0,
  "metadata": {
    "colab": {
      "provenance": []
    },
    "kernelspec": {
      "name": "python3",
      "display_name": "Python 3"
    },
    "language_info": {
      "name": "python"
    }
  },
  "cells": [
    {
      "cell_type": "markdown",
      "source": [
        "# **Epidemiology**\n",
        "\n",
        "Paper: https://academic.oup.com/jrsssb/article/85/4/1173/7218445?login=false#419282247\n",
        "\n",
        "Title: __\"Consistent and fast inference in compartmental models of\n",
        "epidemics using Poisson Approximate Likelihoods\"__\n",
        "\n",
        "Authors:\n",
        "\n",
        "- Michael Whitehouse, School of Mathematics, University of Bristol\n",
        "- Nick Whiteley, School of Mathematics, University of Bristol\n",
        "- Lorenzo Rimella, Department of Mathematics and Statistics, Lancaster University"
      ],
      "metadata": {
        "id": "fj6eK5T2DKxo"
      }
    },
    {
      "cell_type": "markdown",
      "source": [
        "Interesting approximation scheme for compartment models (which are popular in Epidemiology). Specifically, you may look at their first example (influenza in Wales)"
      ],
      "metadata": {
        "id": "ZwUmwsJYD1In"
      }
    },
    {
      "cell_type": "markdown",
      "source": [
        "## Import packages"
      ],
      "metadata": {
        "id": "g3s8qar4Rra4"
      }
    },
    {
      "cell_type": "code",
      "source": [
        "!pip install particles"
      ],
      "metadata": {
        "colab": {
          "base_uri": "https://localhost:8080/"
        },
        "id": "A6i7A8X0RuNR",
        "outputId": "0a2404bc-7733-4d51-b38a-1a5d5420c0b9"
      },
      "execution_count": 2,
      "outputs": [
        {
          "output_type": "stream",
          "name": "stdout",
          "text": [
            "Collecting particles\n",
            "  Downloading particles-0.4-py3-none-any.whl.metadata (4.6 kB)\n",
            "Requirement already satisfied: joblib in /usr/local/lib/python3.10/dist-packages (from particles) (1.4.2)\n",
            "Requirement already satisfied: numba in /usr/local/lib/python3.10/dist-packages (from particles) (0.60.0)\n",
            "Requirement already satisfied: numpy<2,>=1.18 in /usr/local/lib/python3.10/dist-packages (from particles) (1.26.4)\n",
            "Requirement already satisfied: scipy>=1.7 in /usr/local/lib/python3.10/dist-packages (from particles) (1.13.1)\n",
            "Requirement already satisfied: scikit-learn in /usr/local/lib/python3.10/dist-packages (from particles) (1.5.2)\n",
            "Requirement already satisfied: llvmlite<0.44,>=0.43.0dev0 in /usr/local/lib/python3.10/dist-packages (from numba->particles) (0.43.0)\n",
            "Requirement already satisfied: threadpoolctl>=3.1.0 in /usr/local/lib/python3.10/dist-packages (from scikit-learn->particles) (3.5.0)\n",
            "Downloading particles-0.4-py3-none-any.whl (670 kB)\n",
            "\u001b[2K   \u001b[90m━━━━━━━━━━━━━━━━━━━━━━━━━━━━━━━━━━━━━━━━\u001b[0m \u001b[32m670.5/670.5 kB\u001b[0m \u001b[31m14.0 MB/s\u001b[0m eta \u001b[36m0:00:00\u001b[0m\n",
            "\u001b[?25hInstalling collected packages: particles\n",
            "Successfully installed particles-0.4\n"
          ]
        }
      ]
    },
    {
      "cell_type": "code",
      "source": [
        "import particles\n",
        "import particles.state_space_models as ssm\n",
        "import particles.distributions as dists\n",
        "import numpy as np\n",
        "import matplotlib.pyplot as plt"
      ],
      "metadata": {
        "id": "JjRc0s6vRszc"
      },
      "execution_count": 9,
      "outputs": []
    },
    {
      "cell_type": "markdown",
      "source": [
        "## To understand Bootstrap Filtering"
      ],
      "metadata": {
        "id": "yK80aa3zVw63"
      }
    },
    {
      "cell_type": "code",
      "execution_count": 6,
      "metadata": {
        "id": "4bDV1qcZCLIg",
        "colab": {
          "base_uri": "https://localhost:8080/"
        },
        "outputId": "a4a19f65-6b77-4c36-d254-c0ed466d688a"
      },
      "outputs": [
        {
          "output_type": "stream",
          "name": "stdout",
          "text": [
            "t=0: resample:False, ESS (end of iter)=33.79\n",
            "t=1: resample:True, ESS (end of iter)=34.71\n",
            "t=2: resample:True, ESS (end of iter)=61.95\n",
            "t=3: resample:True, ESS (end of iter)=50.01\n",
            "t=4: resample:True, ESS (end of iter)=28.45\n",
            "t=5: resample:True, ESS (end of iter)=30.60\n",
            "t=6: resample:True, ESS (end of iter)=59.66\n",
            "t=7: resample:True, ESS (end of iter)=28.73\n",
            "t=8: resample:True, ESS (end of iter)=34.93\n",
            "t=9: resample:True, ESS (end of iter)=53.12\n",
            "t=10: resample:True, ESS (end of iter)=53.44\n",
            "t=11: resample:True, ESS (end of iter)=20.22\n",
            "t=12: resample:True, ESS (end of iter)=30.63\n",
            "t=13: resample:True, ESS (end of iter)=32.20\n",
            "t=14: resample:True, ESS (end of iter)=39.88\n",
            "t=15: resample:True, ESS (end of iter)=62.65\n",
            "t=16: resample:True, ESS (end of iter)=55.52\n",
            "t=17: resample:True, ESS (end of iter)=49.19\n",
            "t=18: resample:True, ESS (end of iter)=57.45\n",
            "t=19: resample:True, ESS (end of iter)=32.24\n",
            "t=20: resample:True, ESS (end of iter)=52.60\n",
            "t=21: resample:True, ESS (end of iter)=6.20\n",
            "t=22: resample:True, ESS (end of iter)=55.59\n",
            "t=23: resample:True, ESS (end of iter)=5.42\n",
            "t=24: resample:True, ESS (end of iter)=47.93\n",
            "t=25: resample:True, ESS (end of iter)=34.74\n",
            "t=26: resample:True, ESS (end of iter)=39.68\n",
            "t=27: resample:True, ESS (end of iter)=52.43\n",
            "t=28: resample:True, ESS (end of iter)=35.56\n",
            "t=29: resample:True, ESS (end of iter)=57.14\n",
            "t=30: resample:True, ESS (end of iter)=52.83\n",
            "t=31: resample:True, ESS (end of iter)=51.76\n",
            "t=32: resample:True, ESS (end of iter)=50.08\n",
            "t=33: resample:True, ESS (end of iter)=18.03\n",
            "t=34: resample:True, ESS (end of iter)=53.47\n",
            "t=35: resample:True, ESS (end of iter)=1.80\n",
            "t=36: resample:True, ESS (end of iter)=53.12\n",
            "t=37: resample:True, ESS (end of iter)=16.58\n",
            "t=38: resample:True, ESS (end of iter)=11.34\n",
            "t=39: resample:True, ESS (end of iter)=49.15\n",
            "t=40: resample:True, ESS (end of iter)=56.56\n",
            "t=41: resample:True, ESS (end of iter)=20.44\n",
            "t=42: resample:True, ESS (end of iter)=50.89\n",
            "t=43: resample:True, ESS (end of iter)=46.17\n",
            "t=44: resample:True, ESS (end of iter)=26.72\n",
            "t=45: resample:True, ESS (end of iter)=40.95\n",
            "t=46: resample:True, ESS (end of iter)=31.63\n",
            "t=47: resample:True, ESS (end of iter)=40.50\n",
            "t=48: resample:True, ESS (end of iter)=20.02\n",
            "t=49: resample:True, ESS (end of iter)=43.17\n",
            "t=50: resample:True, ESS (end of iter)=44.86\n",
            "t=51: resample:True, ESS (end of iter)=36.39\n",
            "t=52: resample:True, ESS (end of iter)=26.24\n",
            "t=53: resample:True, ESS (end of iter)=1.54\n",
            "t=54: resample:True, ESS (end of iter)=12.77\n",
            "t=55: resample:True, ESS (end of iter)=24.36\n",
            "t=56: resample:True, ESS (end of iter)=52.53\n",
            "t=57: resample:True, ESS (end of iter)=60.58\n",
            "t=58: resample:True, ESS (end of iter)=12.80\n",
            "t=59: resample:True, ESS (end of iter)=10.54\n",
            "t=60: resample:True, ESS (end of iter)=40.69\n",
            "t=61: resample:True, ESS (end of iter)=45.67\n",
            "t=62: resample:True, ESS (end of iter)=28.91\n",
            "t=63: resample:True, ESS (end of iter)=18.69\n",
            "t=64: resample:True, ESS (end of iter)=61.12\n",
            "t=65: resample:True, ESS (end of iter)=30.37\n",
            "t=66: resample:True, ESS (end of iter)=45.46\n",
            "t=67: resample:True, ESS (end of iter)=51.98\n",
            "t=68: resample:True, ESS (end of iter)=39.81\n",
            "t=69: resample:True, ESS (end of iter)=46.74\n",
            "t=70: resample:True, ESS (end of iter)=33.82\n",
            "t=71: resample:True, ESS (end of iter)=32.00\n",
            "t=72: resample:True, ESS (end of iter)=42.85\n",
            "t=73: resample:True, ESS (end of iter)=37.36\n",
            "t=74: resample:True, ESS (end of iter)=58.51\n",
            "t=75: resample:True, ESS (end of iter)=58.07\n",
            "t=76: resample:True, ESS (end of iter)=41.87\n",
            "t=77: resample:True, ESS (end of iter)=41.04\n",
            "t=78: resample:True, ESS (end of iter)=51.75\n",
            "t=79: resample:True, ESS (end of iter)=46.60\n",
            "t=80: resample:True, ESS (end of iter)=50.55\n",
            "t=81: resample:True, ESS (end of iter)=39.60\n",
            "t=82: resample:True, ESS (end of iter)=34.17\n",
            "t=83: resample:True, ESS (end of iter)=8.39\n",
            "t=84: resample:True, ESS (end of iter)=17.64\n",
            "t=85: resample:True, ESS (end of iter)=8.59\n",
            "t=86: resample:True, ESS (end of iter)=39.62\n",
            "t=87: resample:True, ESS (end of iter)=44.31\n",
            "t=88: resample:True, ESS (end of iter)=20.25\n",
            "t=89: resample:True, ESS (end of iter)=38.85\n",
            "t=90: resample:True, ESS (end of iter)=34.54\n",
            "t=91: resample:True, ESS (end of iter)=45.77\n",
            "t=92: resample:True, ESS (end of iter)=50.70\n",
            "t=93: resample:True, ESS (end of iter)=31.52\n",
            "t=94: resample:True, ESS (end of iter)=33.26\n",
            "t=95: resample:True, ESS (end of iter)=48.76\n",
            "t=96: resample:True, ESS (end of iter)=57.62\n",
            "t=97: resample:True, ESS (end of iter)=17.08\n",
            "t=98: resample:True, ESS (end of iter)=25.71\n",
            "t=99: resample:True, ESS (end of iter)=56.81\n",
            "t=100: resample:True, ESS (end of iter)=18.90\n",
            "t=101: resample:True, ESS (end of iter)=43.96\n",
            "t=102: resample:True, ESS (end of iter)=33.25\n",
            "t=103: resample:True, ESS (end of iter)=40.87\n",
            "t=104: resample:True, ESS (end of iter)=31.18\n",
            "t=105: resample:True, ESS (end of iter)=41.58\n",
            "t=106: resample:True, ESS (end of iter)=7.21\n",
            "t=107: resample:True, ESS (end of iter)=10.86\n",
            "t=108: resample:True, ESS (end of iter)=31.99\n",
            "t=109: resample:True, ESS (end of iter)=10.01\n",
            "t=110: resample:True, ESS (end of iter)=43.45\n",
            "t=111: resample:True, ESS (end of iter)=48.13\n",
            "t=112: resample:True, ESS (end of iter)=17.58\n",
            "t=113: resample:True, ESS (end of iter)=60.24\n",
            "t=114: resample:True, ESS (end of iter)=54.11\n",
            "t=115: resample:True, ESS (end of iter)=41.95\n",
            "t=116: resample:True, ESS (end of iter)=56.49\n",
            "t=117: resample:True, ESS (end of iter)=42.14\n",
            "t=118: resample:True, ESS (end of iter)=6.38\n",
            "t=119: resample:True, ESS (end of iter)=21.32\n",
            "t=120: resample:True, ESS (end of iter)=11.10\n",
            "t=121: resample:True, ESS (end of iter)=18.19\n",
            "t=122: resample:True, ESS (end of iter)=54.22\n",
            "t=123: resample:True, ESS (end of iter)=43.09\n",
            "t=124: resample:True, ESS (end of iter)=40.02\n",
            "t=125: resample:True, ESS (end of iter)=26.34\n",
            "t=126: resample:True, ESS (end of iter)=52.75\n",
            "t=127: resample:True, ESS (end of iter)=50.92\n",
            "t=128: resample:True, ESS (end of iter)=46.78\n",
            "t=129: resample:True, ESS (end of iter)=41.04\n",
            "t=130: resample:True, ESS (end of iter)=42.12\n",
            "t=131: resample:True, ESS (end of iter)=42.86\n",
            "t=132: resample:True, ESS (end of iter)=40.47\n",
            "t=133: resample:True, ESS (end of iter)=39.05\n",
            "t=134: resample:True, ESS (end of iter)=42.79\n",
            "t=135: resample:True, ESS (end of iter)=37.24\n",
            "t=136: resample:True, ESS (end of iter)=33.42\n",
            "t=137: resample:True, ESS (end of iter)=41.14\n",
            "t=138: resample:True, ESS (end of iter)=22.57\n",
            "t=139: resample:True, ESS (end of iter)=45.62\n",
            "t=140: resample:True, ESS (end of iter)=21.07\n",
            "t=141: resample:True, ESS (end of iter)=47.65\n",
            "t=142: resample:True, ESS (end of iter)=24.92\n",
            "t=143: resample:True, ESS (end of iter)=19.09\n",
            "t=144: resample:True, ESS (end of iter)=65.82\n",
            "t=145: resample:True, ESS (end of iter)=49.81\n",
            "t=146: resample:True, ESS (end of iter)=54.57\n",
            "t=147: resample:True, ESS (end of iter)=33.82\n",
            "t=148: resample:True, ESS (end of iter)=46.83\n",
            "t=149: resample:True, ESS (end of iter)=52.53\n",
            "t=150: resample:True, ESS (end of iter)=47.39\n",
            "t=151: resample:True, ESS (end of iter)=41.30\n",
            "t=152: resample:True, ESS (end of iter)=41.14\n",
            "t=153: resample:True, ESS (end of iter)=54.02\n",
            "t=154: resample:True, ESS (end of iter)=15.96\n",
            "t=155: resample:True, ESS (end of iter)=24.15\n",
            "t=156: resample:True, ESS (end of iter)=50.74\n",
            "t=157: resample:True, ESS (end of iter)=48.59\n",
            "t=158: resample:True, ESS (end of iter)=52.12\n",
            "t=159: resample:True, ESS (end of iter)=35.18\n",
            "t=160: resample:True, ESS (end of iter)=6.90\n",
            "t=161: resample:True, ESS (end of iter)=43.06\n",
            "t=162: resample:True, ESS (end of iter)=29.73\n",
            "t=163: resample:True, ESS (end of iter)=62.39\n",
            "t=164: resample:True, ESS (end of iter)=58.06\n",
            "t=165: resample:True, ESS (end of iter)=43.88\n",
            "t=166: resample:True, ESS (end of iter)=12.42\n",
            "t=167: resample:True, ESS (end of iter)=8.01\n",
            "t=168: resample:True, ESS (end of iter)=11.67\n",
            "t=169: resample:True, ESS (end of iter)=6.11\n",
            "t=170: resample:True, ESS (end of iter)=35.05\n",
            "t=171: resample:True, ESS (end of iter)=45.73\n",
            "t=172: resample:True, ESS (end of iter)=9.33\n",
            "t=173: resample:True, ESS (end of iter)=33.68\n",
            "t=174: resample:True, ESS (end of iter)=50.06\n",
            "t=175: resample:True, ESS (end of iter)=26.16\n",
            "t=176: resample:True, ESS (end of iter)=56.48\n",
            "t=177: resample:True, ESS (end of iter)=17.67\n",
            "t=178: resample:True, ESS (end of iter)=55.66\n",
            "t=179: resample:True, ESS (end of iter)=37.00\n",
            "t=180: resample:True, ESS (end of iter)=52.15\n",
            "t=181: resample:True, ESS (end of iter)=36.32\n",
            "t=182: resample:True, ESS (end of iter)=52.20\n",
            "t=183: resample:True, ESS (end of iter)=52.40\n",
            "t=184: resample:True, ESS (end of iter)=36.91\n",
            "t=185: resample:True, ESS (end of iter)=23.20\n",
            "t=186: resample:True, ESS (end of iter)=41.88\n",
            "t=187: resample:True, ESS (end of iter)=46.78\n",
            "t=188: resample:True, ESS (end of iter)=55.19\n",
            "t=189: resample:True, ESS (end of iter)=51.77\n",
            "t=190: resample:True, ESS (end of iter)=26.72\n",
            "t=191: resample:True, ESS (end of iter)=37.64\n",
            "t=192: resample:True, ESS (end of iter)=40.89\n",
            "t=193: resample:True, ESS (end of iter)=43.43\n",
            "t=194: resample:True, ESS (end of iter)=47.11\n",
            "t=195: resample:True, ESS (end of iter)=33.79\n",
            "t=196: resample:True, ESS (end of iter)=37.65\n",
            "t=197: resample:True, ESS (end of iter)=52.27\n",
            "t=198: resample:True, ESS (end of iter)=41.73\n",
            "t=199: resample:True, ESS (end of iter)=31.32\n"
          ]
        }
      ],
      "source": [
        "class ToySSM(ssm.StateSpaceModel):\n",
        "    def PX0(self):  # Distribution of X_0\n",
        "        return dists.Normal()  # X_0 ~ N(0, 1)\n",
        "    def PX(self, t, xp):  # Distribution of X_t given X_{t-1}\n",
        "        return dists.Normal(loc=xp)  # X_t ~ N( X_{t-1}, 1)\n",
        "    def PY(self, t, xp, x):  # Distribution of Y_t given X_t (and X_{t-1})\n",
        "        return dists.Normal(loc=x, scale=self.sigma)  # Y_t ~ N(X_t, sigma^2)\n",
        "\n",
        "my_model = ToySSM(sigma=0.2)\n",
        "x, y = my_model.simulate(200)  # sample size is 200\n",
        "\n",
        "alg = particles.SMC(fk=ssm.Bootstrap(ssm=my_model, data=y), N=200, verbose=True)\n",
        "alg.run()"
      ]
    },
    {
      "cell_type": "code",
      "source": [
        "plt.style.use('ggplot')\n",
        "plt.plot(alg.summaries.logLts)\n",
        "plt.xlabel('t')\n",
        "plt.ylabel(r'log-probability');"
      ],
      "metadata": {
        "colab": {
          "base_uri": "https://localhost:8080/",
          "height": 453
        },
        "id": "MUdYT84MWRjD",
        "outputId": "0b6e4402-4884-4e2d-a87b-80d7e967b566"
      },
      "execution_count": 10,
      "outputs": [
        {
          "output_type": "display_data",
          "data": {
            "text/plain": [
              "<Figure size 640x480 with 1 Axes>"
            ],
            "image/png": "[encoded data removed]"
          },
          "metadata": {}
        }
      ]
    },
    {
      "cell_type": "markdown",
      "source": [
        "## 1. Implement a bootstrap filter for this model"
      ],
      "metadata": {
        "id": "iwE6LbLLDa-8"
      }
    },
    {
      "cell_type": "markdown",
      "source": [
        "## 2. Implement the PAL approximation algorithm"
      ],
      "metadata": {
        "id": "DpT1Uf-5DVD7"
      }
    },
    {
      "cell_type": "code",
      "source": [],
      "metadata": {
        "id": "rVlvLLw0DW2E"
      },
      "execution_count": null,
      "outputs": []
    },
    {
      "cell_type": "markdown",
      "source": [
        "## 3. Compare the two in terms of how well they approximate the (log-)likelihood at a given theta; you can choose a \"reasonable\" theta based on their result."
      ],
      "metadata": {
        "id": "7kk9zhVRDXS9"
      }
    },
    {
      "cell_type": "code",
      "source": [],
      "metadata": {
        "id": "ud2QXmkUDehs"
      },
      "execution_count": null,
      "outputs": []
    },
    {
      "cell_type": "markdown",
      "source": [
        "## 4. Perform parameter estimation using either\n",
        "\n",
        " (a) a PMCMC or SMC^2 algorithm based on the bootstrap filter; or\n",
        "\n",
        " (b) a MCMC sampler that replaces the likelihood by its PAM approximation.\n",
        "\n"
      ],
      "metadata": {
        "id": "Hl3twNc8De97"
      }
    },
    {
      "cell_type": "markdown",
      "source": [
        "Note that the authors do (b) with Stan, but that may be too time-consuming for you; it might be better to resort to a simpler MCMC scheme, such as random walk Metropolis.\n"
      ],
      "metadata": {
        "id": "0CvejJVIDklG"
      }
    },
    {
      "cell_type": "code",
      "source": [],
      "metadata": {
        "id": "9ie8hhv6DjlM"
      },
      "execution_count": null,
      "outputs": []
    },
    {
      "cell_type": "markdown",
      "source": [
        "## 5. If time permits, try to do both (a) and (b) and compare your results with those of the paper."
      ],
      "metadata": {
        "id": "a-mUBFgHDmC_"
      }
    },
    {
      "cell_type": "code",
      "source": [],
      "metadata": {
        "id": "qGQ9rhtbDqVA"
      },
      "execution_count": null,
      "outputs": []
    }
  ]
}