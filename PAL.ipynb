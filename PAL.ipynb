{
 "cells": [
  {
   "cell_type": "code",
   "execution_count": 4,
   "id": "309bbbc8-253a-44c9-bd68-82917f7b1688",
   "metadata": {},
   "outputs": [],
   "source": [
    "import numpy as np\n",
    "from scipy.stats import binom\n",
    "from scipy.stats import truncnorm\n",
    "from scipy.stats import gamma\n",
    "from scipy.special import factorial"
   ]
  },
  {
   "cell_type": "code",
   "execution_count": 5,
   "id": "b5bba6f4-0b6e-40d8-adf5-a37fb2e7163b",
   "metadata": {},
   "outputs": [],
   "source": [
    "# Parameters \n",
    "\n",
    "h = 1/7\n",
    "pho = 2/3\n",
    "g = 2/3\n",
    "R = 19\n",
    "T = 7*R"
   ]
  },
  {
   "cell_type": "code",
   "execution_count": 6,
   "id": "e397e6a0-0764-40a0-9b0d-343f29a1299a",
   "metadata": {},
   "outputs": [],
   "source": [
    "def K(k, betas):\n",
    "    K = np.zeros((4,4))\n",
    "    K[0, 0], K[0, 1], K[1, 1], K[1, 2], K[2, 2], K[2, 3] = np.exp(-betas[k]*h), 1-np.exp(-betas[k]*h), np.exp(-h*pho), 1-np.exp(-h*pho), np.exp(-h*gamma), 1-np.exp(-h*gamma)\n",
    "    return(K)"
   ]
  },
  {
   "cell_type": "code",
   "execution_count": 8,
   "id": "7b187837-7dbc-4f89-863e-7f6363339846",
   "metadata": {},
   "outputs": [],
   "source": [
    "# Initial settings\n",
    "X1 = np.array([948, 0, 1, 0])\n",
    "X2 = np.array([1689, 0, 1, 0])\n",
    "X3 = np.array([3466, 0, 1, 0])\n",
    "X4 = np.array([1894, 0, 1, 0])\n",
    "\n",
    "def PAL(y, theta, R=19):\n",
    "    X = np.array([X1, X2, X3, X4]) \n",
    "    X_all = np.array([X for r in range(R+1)])\n",
    "    B = theta[:16].reshape(4,4)\n",
    "    L = np.zeros((R, 4))\n",
    "    for r in range(R):\n",
    "        G = np.array([X for i in range(7)])\n",
    "        for i in range(6):\n",
    "            I =  X[:, 2]   \n",
    "            betas = 1/8000 * np.dot(B, I)\n",
    "            for k in range(4):\n",
    "                G[i][k] = np.multiply(np.outer(np.ones(4), X[k]), K(k, betas))\n",
    "                X[k] = np.transpose(np.dot(np.transpose(np.ones(4)), G))\n",
    "        I =  X[:, 2]   \n",
    "        betas = 1/8000 * np.dot(M, I)\n",
    "        for k in range(4):\n",
    "            G[6][k] = np.multiply(np.outer(np.ones(4), X[k]), K(k, betas))\n",
    "            X[k] = np.transpose(np.dot(np.transpose(np.ones(4)), G))\n",
    "            M = np.zeros((4,4))\n",
    "            Q = np.zeros((4,4))\n",
    "            Q[2][3] = theta[k+16]\n",
    "            for i in range(7):\n",
    "                M = M + np.multiply(G[i][k], Q)\n",
    "            Y_bar = np.zeros((4,4))\n",
    "            Y_bar[2][3] = y[r][k]\n",
    "            G_bar = np.multiply(np.outer(np.ones(4), np.ones(4))-Q, G[i][k]) + np.multiply(Y_bar, np.multiply(G[6][k], np.divide(Q, M)))\n",
    "            X[k] = np.transpose(np.dot(np.transpose(np.ones(4)), G_bar))\n",
    "            L[r][4] = np.log(-np.dot(np.transpose(np.ones(4)), np.dot(M, np.ones(4))) + np.dot(np.transpose(np.ones(4)), np.dot(np.multiply(Y_bar, np.log(M)), np.ones(4))) - np.dot(np.transpose(np.ones(4)), np.dot(np.log(factorial(Y_bar)), np.ones(4))))\n",
    "    return L"
   ]
  },
  {
   "cell_type": "code",
   "execution_count": null,
   "id": "e1aebb01-0c87-464c-8945-9195472805ed",
   "metadata": {},
   "outputs": [],
   "source": []
  }
 ],
 "metadata": {
  "kernelspec": {
   "display_name": "Python 3 (ipykernel)",
   "language": "python",
   "name": "python3"
  },
  "language_info": {
   "codemirror_mode": {
    "name": "ipython",
    "version": 3
   },
   "file_extension": ".py",
   "mimetype": "text/x-python",
   "name": "python",
   "nbconvert_exporter": "python",
   "pygments_lexer": "ipython3",
   "version": "3.12.7"
  }
 },
 "nbformat": 4,
 "nbformat_minor": 5
}
