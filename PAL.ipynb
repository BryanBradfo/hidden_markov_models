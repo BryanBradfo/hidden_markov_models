{
 "cells": [
  {
   "cell_type": "code",
   "execution_count": 117,
   "id": "309bbbc8-253a-44c9-bd68-82917f7b1688",
   "metadata": {},
   "outputs": [],
   "source": [
    "import numpy as np\n",
    "from scipy.stats import binom\n",
    "from scipy.stats import truncnorm\n",
    "from scipy.stats import gamma\n",
    "from scipy.special import factorial"
   ]
  },
  {
   "cell_type": "code",
   "execution_count": 118,
   "id": "b5bba6f4-0b6e-40d8-adf5-a37fb2e7163b",
   "metadata": {},
   "outputs": [],
   "source": [
    "# Parameters \n",
    "\n",
    "h = 1/7\n",
    "pho = 2/3\n",
    "g = 2/3\n",
    "R = 19\n",
    "T = 7*R"
   ]
  },
  {
   "cell_type": "code",
   "execution_count": 119,
   "id": "61e8c6e7-bf46-4b26-be86-9a6776172e7e",
   "metadata": {},
   "outputs": [],
   "source": [
    "def get_truncated_normal(mean, sd, low, upp):\n",
    "    return truncnorm((low - mean) / sd, (upp - mean) / sd, loc=mean, scale=sd)"
   ]
  },
  {
   "cell_type": "code",
   "execution_count": 120,
   "id": "e397e6a0-0764-40a0-9b0d-343f29a1299a",
   "metadata": {},
   "outputs": [],
   "source": [
    "def K(k, betas):\n",
    "    K = np.zeros((4,4))\n",
    "    K[0, 0], K[0, 1], K[1, 1], K[1, 2], K[2, 2], K[2, 3], K[3, 3] = np.exp(-betas[k]*h), 1-np.exp(-betas[k]*h), np.exp(-h*pho), 1-np.exp(-h*pho), np.exp(-h*g), 1-np.exp(-h*g), 1\n",
    "    return(K)"
   ]
  },
  {
   "cell_type": "code",
   "execution_count": 121,
   "id": "9e34b7d5-efae-47f7-9ef2-3b4ac1c28ac2",
   "metadata": {},
   "outputs": [],
   "source": [
    "def calcul(Y, G, P, Q):\n",
    "    Q_new = Q\n",
    "    for s in np.argwhere(Q == 0):\n",
    "        if Y[s[0]][s[1]]==0 or G[s[0]][s[1]]==0 or P[s[0]][s[1]]==0:\n",
    "             Q_new[s[0]][s[1]] = 1\n",
    "    M = np.multiply(Y, np.multiply(G, np.divide(P, Q)))\n",
    "    for s in np.argwhere(Q == 0):\n",
    "        M[s[0]][s[1]] = 0\n",
    "    return M"
   ]
  },
  {
   "cell_type": "code",
   "execution_count": 122,
   "id": "217ba27a-fdc6-4681-bb7a-f8592d2e5d70",
   "metadata": {},
   "outputs": [],
   "source": [
    "def log_factorial(Y):\n",
    "    M = np.zeros((4,4))\n",
    "    M[1][2] = np.sum(np.log(np.arange(1, Y[1][2])))\n",
    "    return M"
   ]
  },
  {
   "cell_type": "code",
   "execution_count": 123,
   "id": "7b187837-7dbc-4f89-863e-7f6363339846",
   "metadata": {},
   "outputs": [],
   "source": [
    "# Initial settings\n",
    "X1 = np.array([948, 0, 1, 0])\n",
    "X2 = np.array([1689, 0, 1, 0])\n",
    "X3 = np.array([3466, 0, 1, 0])\n",
    "X4 = np.array([1894, 0, 1, 0])\n",
    "\n",
    "def PAL(y, theta, R=19):\n",
    "    X = np.array([X1, X2, X3, X4]) \n",
    "    X_all = np.array([X for r in range(R+1)])\n",
    "    B = theta[:16].reshape(4,4)\n",
    "    L = np.zeros((R, 4))\n",
    "    for r in range(R):\n",
    "        G = np.zeros((7, 4, 4, 4))\n",
    "        for i in range(6):\n",
    "            I =  X[:, 2]   \n",
    "            betas = 1/8000 * np.dot(B, I)\n",
    "            for k in range(4):\n",
    "                G[i][k] = np.multiply(np.outer(np.ones(4), X[k]), K(k, betas))\n",
    "                X[k] = np.transpose(np.dot(np.transpose(np.ones(4)), G[i][k]))\n",
    "        I =  X[:, 2]   \n",
    "        betas = 1/8000 * np.dot(B, I)\n",
    "        for k in range(4):\n",
    "            G[6][k] = np.multiply(np.outer(np.ones(4), X[k]), K(k, betas))\n",
    "            M = np.zeros((4,4))\n",
    "            Q = np.zeros((4,4))\n",
    "            Q[1][2] = theta[k+16]\n",
    "            for i in range(7):\n",
    "                M = M + np.multiply(G[i][k], Q)\n",
    "            Y_bar = np.zeros((4,4))\n",
    "            Y_bar[1][2] = y[r][k]\n",
    "            G_bar = np.multiply(np.outer(np.ones(4), np.ones(4))-Q, G[i][k]) + calcul(Y_bar, G[6][k], Q, M)\n",
    "            X[k] = np.transpose(np.dot(np.transpose(np.ones(4)), G_bar))\n",
    "            L[r][k] = -np.dot(np.transpose(np.ones(4)), np.dot(M, np.ones(4))) + np.dot(np.transpose(np.ones(4)), np.dot(np.multiply(Y_bar, np.log(M)), np.ones(4))) - np.dot(np.transpose(np.ones(4)), np.dot(log_factorial(Y_bar), np.ones(4)))\n",
    "            if L[r][k] == -np.inf:\n",
    "                print(Y_bar, factorial(Y_bar))\n",
    "    return L"
   ]
  },
  {
   "cell_type": "code",
   "execution_count": 124,
   "id": "e1aebb01-0c87-464c-8945-9195472805ed",
   "metadata": {},
   "outputs": [
    {
     "data": {
      "text/plain": [
       "array([[ -15.36743571,  -15.01491542,  -16.11079579,  -16.36281762],\n",
       "       [ -16.        ,  -16.        ,  -23.45204272,  -16.36281762],\n",
       "       [ -16.        ,  -16.        ,  -19.43480837,  -17.35479114],\n",
       "       [ -64.47118135, -254.97838956, -244.64354183,  -41.3869654 ],\n",
       "       [-212.86618167, -916.45849071, -445.50270078, -138.31420784],\n",
       "       [-254.97838956, -911.12577192, -235.47208249,  -53.10132148],\n",
       "       [-225.34258675, -616.00947056, -117.21290782,  -16.1134112 ],\n",
       "       [ -74.00360522, -122.63176026,  -33.36216182,  -48.59044853],\n",
       "       [ -46.67186011,  -49.50507345,  -15.78190736,  -18.4475711 ],\n",
       "       [ -16.69314718,  -17.79175947,  -29.23354066,  -15.09680629],\n",
       "       [ -16.        ,  -20.78749174,  -23.99920454,  -15.13445218],\n",
       "       [ -16.        ,  -20.78749174,  -27.95101144,  -15.79519297],\n",
       "       [ -16.        ,  -16.        ,  -33.78941374,  -15.16351738],\n",
       "       [ -16.        ,  -16.        ,  -40.44595065,  -16.46426294],\n",
       "       [ -16.        ,  -16.        ,  -34.9521323 ,  -19.0792851 ],\n",
       "       [ -16.        ,  -16.        ,  -30.61012755,  -15.63226331],\n",
       "       [ -16.        ,  -16.        ,  -30.68651897,  -18.708441  ],\n",
       "       [ -16.        ,  -16.        ,  -22.07973895,  -17.13234584],\n",
       "       [ -16.        ,  -16.        ,  -22.09535643,  -15.79181676]])"
      ]
     },
     "execution_count": 124,
     "metadata": {},
     "output_type": "execute_result"
    }
   ],
   "source": [
    "theta = np.concatenate((np.random.gamma(5, 1, 16), get_truncated_normal(mean=0.5, sd=0.5, low=0, upp=1).rvs(4)), axis=None)\n",
    "Y = np.array([[0,0,1,1],[0,2,6,1],[0,2,4,2],[23,73,63,11],[63,208,173,41],[73,207,171,27],[66,150,143,7],[26,40,87,29],[17,18,33,12],[3,4,13,6],[2,6,16,5],[1,6,11,3],[0,1,6,5],[0,2,2,2],[0,1,3,0],[0,1,4,6],[0,1,3,0],[2,1,7,1], [1,1,6,2]])\n",
    "PAL(Y, theta, R=19)"
   ]
  },
  {
   "cell_type": "code",
   "execution_count": 128,
   "id": "4fe6b577-df98-410d-8cfb-d62a2e052cfa",
   "metadata": {},
   "outputs": [],
   "source": [
    "def log_PAL(y, theta, R=19):\n",
    "    L = PAL(y, theta, R=19)\n",
    "    for r in range(1, R):\n",
    "        L[r] = np.sum(L[:r, :], axis=0)\n",
    "    return L"
   ]
  },
  {
   "cell_type": "code",
   "execution_count": 130,
   "id": "322f72a7-f7f2-45d8-8d5b-a1e197a987c9",
   "metadata": {},
   "outputs": [
    {
     "data": {
      "text/plain": [
       "array([[-1.56159578e+01, -1.55903314e+01, -1.63243607e+01,\n",
       "        -1.63061035e+01],\n",
       "       [-1.56159578e+01, -1.55903314e+01, -1.63243607e+01,\n",
       "        -1.63061035e+01],\n",
       "       [-3.12319156e+01, -3.11806629e+01, -3.26487213e+01,\n",
       "        -3.26122069e+01],\n",
       "       [-6.24638312e+01, -6.23613258e+01, -6.52974426e+01,\n",
       "        -6.52244138e+01],\n",
       "       [-1.24927662e+02, -1.24722652e+02, -1.30594885e+02,\n",
       "        -1.30448828e+02],\n",
       "       [-2.49855325e+02, -2.49445303e+02, -2.61189771e+02,\n",
       "        -2.60897655e+02],\n",
       "       [-4.99710649e+02, -4.98890606e+02, -5.22379541e+02,\n",
       "        -5.21795311e+02],\n",
       "       [-9.99421299e+02, -9.97781212e+02, -1.04475908e+03,\n",
       "        -1.04359062e+03],\n",
       "       [-1.99884260e+03, -1.99556242e+03, -2.08951816e+03,\n",
       "        -2.08718124e+03],\n",
       "       [-3.99768519e+03, -3.99112485e+03, -4.17903633e+03,\n",
       "        -4.17436249e+03],\n",
       "       [-7.99537039e+03, -7.98224970e+03, -8.35807266e+03,\n",
       "        -8.34872497e+03],\n",
       "       [-1.59907408e+04, -1.59644994e+04, -1.67161453e+04,\n",
       "        -1.66974499e+04],\n",
       "       [-3.19814816e+04, -3.19289988e+04, -3.34322906e+04,\n",
       "        -3.33948999e+04],\n",
       "       [-6.39629631e+04, -6.38579976e+04, -6.68645813e+04,\n",
       "        -6.67897998e+04],\n",
       "       [-1.27925926e+05, -1.27715995e+05, -1.33729163e+05,\n",
       "        -1.33579600e+05],\n",
       "       [-2.55851852e+05, -2.55431990e+05, -2.67458325e+05,\n",
       "        -2.67159199e+05],\n",
       "       [-5.11703705e+05, -5.10863981e+05, -5.34916650e+05,\n",
       "        -5.34318398e+05],\n",
       "       [-1.02340741e+06, -1.02172796e+06, -1.06983330e+06,\n",
       "        -1.06863680e+06],\n",
       "       [-2.04681482e+06, -2.04345592e+06, -2.13966660e+06,\n",
       "        -2.13727359e+06]])"
      ]
     },
     "execution_count": 130,
     "metadata": {},
     "output_type": "execute_result"
    }
   ],
   "source": [
    "theta = np.concatenate((np.random.gamma(5, 1, 16), truncnorm.rvs(a=0, b=1, loc=0.5, scale=0.5, size=4)), axis=None)\n",
    "Y = np.array([[0,0,1,1],[0,2,6,1],[0,2,4,2],[23,73,63,11],[63,208,173,41],[73,207,171,27],[66,150,143,7],[26,40,87,29],[17,18,33,12],[3,4,13,6],[2,6,16,5],[1,6,11,3],[0,1,6,5],[0,2,2,2],[0,1,3,0],[0,1,4,6],[0,1,3,0],[2,1,7,1], [1,1,6,2]])\n",
    "log_PAL(Y, theta, R=19)"
   ]
  },
  {
   "cell_type": "code",
   "execution_count": null,
   "id": "d4cb2dc1-82f6-404b-ab50-e468a5e22e0d",
   "metadata": {},
   "outputs": [],
   "source": []
  },
  {
   "cell_type": "code",
   "execution_count": 127,
   "id": "79d686ef-7fef-403a-8823-8991fc106d5b",
   "metadata": {},
   "outputs": [],
   "source": [
    "def log_prior(theta):\n",
    "    prior = 1\n",
    "    for i in range(16):\n",
    "        prior = prior * gamma.pdf(theta[i], a=5, loc=0, scale=1)\n",
    "    for i in range(4):\n",
    "        prior = prior * truncnorm.pdf(theta[16+i], a=0, b=1, loc=0.5, scale=0.5)\n",
    "    return np.log(1+prior)"
   ]
  },
  {
   "cell_type": "code",
   "execution_count": 131,
   "id": "2f13a453-1d9f-444d-ad9a-82a9f4a31926",
   "metadata": {},
   "outputs": [],
   "source": [
    "def LogL(y, theta, R=19):\n",
    "    L = np.zeros(4)\n",
    "    for k in range(4):\n",
    "        L[k] = np.sum(log_PAL(y, theta, R=19)[:, k], axis=0)\n",
    "    return L+log_prior(theta)"
   ]
  },
  {
   "cell_type": "code",
   "execution_count": 132,
   "id": "67231886-24a8-4158-9368-cee74c389638",
   "metadata": {},
   "outputs": [],
   "source": [
    "def MCMC(y, N, R=19):                      # Metropolis-Hastings\n",
    "    theta = np.concatenate((np.random.gamma(5, 1, 16), get_truncated_normal(mean=0.5, sd=0.5, low=0, upp=1).rvs(4)), axis=None)    \n",
    "    thetas = np.array([theta for i in range(Nt)])\n",
    "    L = logL(y, theta, R=19)\n",
    "    for n in range(1, Nt):\n",
    "        theta_new =  np.concatenate((get_truncated_normal(mean=theta[:16], sd=0.1, low=0, upp=np.inf).rvs(), get_truncated_normal(mean=theta[16:], sd=0.1, low=0, upp=1).rvs()), axis=None)\n",
    "        #print(theta_new)\n",
    "        L_new = logL(y, theta_new, R=19) \n",
    "        v = L_new - L\n",
    "        #print(L_new)\n",
    "        for k in range(4):      \n",
    "            u = np.random.uniform()\n",
    "            #print(k, v[k])\n",
    "            if np.log(u)<v[k]:\n",
    "                L[k] = L_new[k]\n",
    "                thetas[n][k:k+4] = theta_new[k:k+4]\n",
    "                thetas[n][16+k] = theta_new[16+k]\n",
    "                theta[k:k+4] = theta_new[k:k+4]\n",
    "                theta[16+k] = theta_new[16+k]\n",
    "            else:\n",
    "                thetas[n][k:k+4] = theta[k:k+4]\n",
    "                thetas[n][16+k] = theta[16+k]    \n",
    "    return thetas"
   ]
  },
  {
   "cell_type": "code",
   "execution_count": 133,
   "id": "9cea97ae-d89d-4a98-847d-01c6c0101702",
   "metadata": {},
   "outputs": [
    {
     "ename": "NameError",
     "evalue": "name 'Nt' is not defined",
     "output_type": "error",
     "traceback": [
      "\u001b[0;31m---------------------------------------------------------------------------\u001b[0m",
      "\u001b[0;31mNameError\u001b[0m                                 Traceback (most recent call last)",
      "Cell \u001b[0;32mIn[133], line 2\u001b[0m\n\u001b[1;32m      1\u001b[0m Y \u001b[38;5;241m=\u001b[39m np\u001b[38;5;241m.\u001b[39marray([[\u001b[38;5;241m0\u001b[39m,\u001b[38;5;241m0\u001b[39m,\u001b[38;5;241m1\u001b[39m,\u001b[38;5;241m1\u001b[39m],[\u001b[38;5;241m0\u001b[39m,\u001b[38;5;241m2\u001b[39m,\u001b[38;5;241m6\u001b[39m,\u001b[38;5;241m1\u001b[39m],[\u001b[38;5;241m0\u001b[39m,\u001b[38;5;241m2\u001b[39m,\u001b[38;5;241m4\u001b[39m,\u001b[38;5;241m2\u001b[39m],[\u001b[38;5;241m23\u001b[39m,\u001b[38;5;241m73\u001b[39m,\u001b[38;5;241m63\u001b[39m,\u001b[38;5;241m11\u001b[39m],[\u001b[38;5;241m63\u001b[39m,\u001b[38;5;241m208\u001b[39m,\u001b[38;5;241m173\u001b[39m,\u001b[38;5;241m41\u001b[39m],[\u001b[38;5;241m73\u001b[39m,\u001b[38;5;241m207\u001b[39m,\u001b[38;5;241m171\u001b[39m,\u001b[38;5;241m27\u001b[39m],[\u001b[38;5;241m66\u001b[39m,\u001b[38;5;241m150\u001b[39m,\u001b[38;5;241m143\u001b[39m,\u001b[38;5;241m7\u001b[39m],[\u001b[38;5;241m26\u001b[39m,\u001b[38;5;241m40\u001b[39m,\u001b[38;5;241m87\u001b[39m,\u001b[38;5;241m29\u001b[39m],[\u001b[38;5;241m17\u001b[39m,\u001b[38;5;241m18\u001b[39m,\u001b[38;5;241m33\u001b[39m,\u001b[38;5;241m12\u001b[39m],[\u001b[38;5;241m3\u001b[39m,\u001b[38;5;241m4\u001b[39m,\u001b[38;5;241m13\u001b[39m,\u001b[38;5;241m6\u001b[39m],[\u001b[38;5;241m2\u001b[39m,\u001b[38;5;241m6\u001b[39m,\u001b[38;5;241m16\u001b[39m,\u001b[38;5;241m5\u001b[39m],[\u001b[38;5;241m1\u001b[39m,\u001b[38;5;241m6\u001b[39m,\u001b[38;5;241m11\u001b[39m,\u001b[38;5;241m3\u001b[39m],[\u001b[38;5;241m0\u001b[39m,\u001b[38;5;241m1\u001b[39m,\u001b[38;5;241m6\u001b[39m,\u001b[38;5;241m5\u001b[39m],[\u001b[38;5;241m0\u001b[39m,\u001b[38;5;241m2\u001b[39m,\u001b[38;5;241m2\u001b[39m,\u001b[38;5;241m2\u001b[39m],[\u001b[38;5;241m0\u001b[39m,\u001b[38;5;241m1\u001b[39m,\u001b[38;5;241m3\u001b[39m,\u001b[38;5;241m0\u001b[39m],[\u001b[38;5;241m0\u001b[39m,\u001b[38;5;241m1\u001b[39m,\u001b[38;5;241m4\u001b[39m,\u001b[38;5;241m6\u001b[39m],[\u001b[38;5;241m0\u001b[39m,\u001b[38;5;241m1\u001b[39m,\u001b[38;5;241m3\u001b[39m,\u001b[38;5;241m0\u001b[39m],[\u001b[38;5;241m2\u001b[39m,\u001b[38;5;241m1\u001b[39m,\u001b[38;5;241m7\u001b[39m,\u001b[38;5;241m1\u001b[39m], [\u001b[38;5;241m1\u001b[39m,\u001b[38;5;241m1\u001b[39m,\u001b[38;5;241m6\u001b[39m,\u001b[38;5;241m2\u001b[39m]])\n\u001b[0;32m----> 2\u001b[0m \u001b[43mMCMC\u001b[49m\u001b[43m(\u001b[49m\u001b[43mY\u001b[49m\u001b[43m,\u001b[49m\u001b[43m \u001b[49m\u001b[38;5;241;43m100\u001b[39;49m\u001b[43m,\u001b[49m\u001b[43m \u001b[49m\u001b[43mR\u001b[49m\u001b[38;5;241;43m=\u001b[39;49m\u001b[38;5;241;43m19\u001b[39;49m\u001b[43m)\u001b[49m\n",
      "Cell \u001b[0;32mIn[132], line 3\u001b[0m, in \u001b[0;36mMCMC\u001b[0;34m(y, N, R)\u001b[0m\n\u001b[1;32m      1\u001b[0m \u001b[38;5;28;01mdef\u001b[39;00m \u001b[38;5;21mMCMC\u001b[39m(y, N, R\u001b[38;5;241m=\u001b[39m\u001b[38;5;241m19\u001b[39m):                      \u001b[38;5;66;03m# Metropolis-Hastings\u001b[39;00m\n\u001b[1;32m      2\u001b[0m     theta \u001b[38;5;241m=\u001b[39m np\u001b[38;5;241m.\u001b[39mconcatenate((np\u001b[38;5;241m.\u001b[39mrandom\u001b[38;5;241m.\u001b[39mgamma(\u001b[38;5;241m5\u001b[39m, \u001b[38;5;241m1\u001b[39m, \u001b[38;5;241m16\u001b[39m), get_truncated_normal(mean\u001b[38;5;241m=\u001b[39m\u001b[38;5;241m0.5\u001b[39m, sd\u001b[38;5;241m=\u001b[39m\u001b[38;5;241m0.5\u001b[39m, low\u001b[38;5;241m=\u001b[39m\u001b[38;5;241m0\u001b[39m, upp\u001b[38;5;241m=\u001b[39m\u001b[38;5;241m1\u001b[39m)\u001b[38;5;241m.\u001b[39mrvs(\u001b[38;5;241m4\u001b[39m)), axis\u001b[38;5;241m=\u001b[39m\u001b[38;5;28;01mNone\u001b[39;00m)    \n\u001b[0;32m----> 3\u001b[0m     thetas \u001b[38;5;241m=\u001b[39m np\u001b[38;5;241m.\u001b[39marray([theta \u001b[38;5;28;01mfor\u001b[39;00m i \u001b[38;5;129;01min\u001b[39;00m \u001b[38;5;28mrange\u001b[39m(\u001b[43mNt\u001b[49m)])\n\u001b[1;32m      4\u001b[0m     L \u001b[38;5;241m=\u001b[39m logL(y, theta, R\u001b[38;5;241m=\u001b[39m\u001b[38;5;241m19\u001b[39m)\n\u001b[1;32m      5\u001b[0m     \u001b[38;5;28;01mfor\u001b[39;00m n \u001b[38;5;129;01min\u001b[39;00m \u001b[38;5;28mrange\u001b[39m(\u001b[38;5;241m1\u001b[39m, Nt):\n",
      "\u001b[0;31mNameError\u001b[0m: name 'Nt' is not defined"
     ]
    }
   ],
   "source": [
    "Y = np.array([[0,0,1,1],[0,2,6,1],[0,2,4,2],[23,73,63,11],[63,208,173,41],[73,207,171,27],[66,150,143,7],[26,40,87,29],[17,18,33,12],[3,4,13,6],[2,6,16,5],[1,6,11,3],[0,1,6,5],[0,2,2,2],[0,1,3,0],[0,1,4,6],[0,1,3,0],[2,1,7,1], [1,1,6,2]])\n",
    "MCMC(Y, 100, R=19)"
   ]
  },
  {
   "cell_type": "code",
   "execution_count": null,
   "id": "305fea08-a82d-40bc-b153-ae55d6983546",
   "metadata": {},
   "outputs": [],
   "source": []
  }
 ],
 "metadata": {
  "kernelspec": {
   "display_name": "Python 3 (ipykernel)",
   "language": "python",
   "name": "python3"
  },
  "language_info": {
   "codemirror_mode": {
    "name": "ipython",
    "version": 3
   },
   "file_extension": ".py",
   "mimetype": "text/x-python",
   "name": "python",
   "nbconvert_exporter": "python",
   "pygments_lexer": "ipython3",
   "version": "3.12.7"
  }
 },
 "nbformat": 4,
 "nbformat_minor": 5
}
