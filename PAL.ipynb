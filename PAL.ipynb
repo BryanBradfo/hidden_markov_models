{
 "cells": [
  {
   "cell_type": "code",
   "execution_count": 4,
   "id": "309bbbc8-253a-44c9-bd68-82917f7b1688",
   "metadata": {},
   "outputs": [],
   "source": [
    "import numpy as np\n",
    "from scipy.stats import binom\n",
    "from scipy.stats import truncnorm\n",
    "from scipy.stats import gamma\n",
    "from scipy.special import factorial"
   ]
  },
  {
   "cell_type": "code",
   "execution_count": 5,
   "id": "b5bba6f4-0b6e-40d8-adf5-a37fb2e7163b",
   "metadata": {},
   "outputs": [],
   "source": [
    "# Parameters \n",
    "\n",
    "h = 1/7\n",
    "pho = 2/3\n",
    "g = 2/3\n",
    "R = 19\n",
    "T = 7*R"
   ]
  },
  {
   "cell_type": "code",
   "execution_count": 10,
   "id": "e397e6a0-0764-40a0-9b0d-343f29a1299a",
   "metadata": {},
   "outputs": [],
   "source": [
    "def K(k, betas):\n",
    "    K = np.zeros((4,4))\n",
    "    K[0, 0], K[0, 1], K[1, 1], K[1, 2], K[2, 2], K[2, 3] = np.exp(-betas[k]*h), 1-np.exp(-betas[k]*h), np.exp(-h*pho), 1-np.exp(-h*pho), np.exp(-h*g), 1-np.exp(-h*g)\n",
    "    return(K)"
   ]
  },
  {
   "cell_type": "code",
   "execution_count": 50,
   "id": "9e34b7d5-efae-47f7-9ef2-3b4ac1c28ac2",
   "metadata": {},
   "outputs": [],
   "source": [
    "def division(P, Q):\n",
    "    Q_new = Q\n",
    "    for s in np.argwhere(Q == 0):\n",
    "        if s[0]!=1 or s[1]!=2:\n",
    "             Q_new[s[0]][s[1]] = 1\n",
    "    #print(Q_new)\n",
    "    M = np.divide(P, Q_new)\n",
    "    for s in np.argwhere(Q == 0):\n",
    "        M[s[0]][s[1]] = 0\n",
    "    return M"
   ]
  },
  {
   "cell_type": "code",
   "execution_count": 51,
   "id": "7b187837-7dbc-4f89-863e-7f6363339846",
   "metadata": {},
   "outputs": [],
   "source": [
    "# Initial settings\n",
    "X1 = np.array([948, 0, 1, 0])\n",
    "X2 = np.array([1689, 0, 1, 0])\n",
    "X3 = np.array([3466, 0, 1, 0])\n",
    "X4 = np.array([1894, 0, 1, 0])\n",
    "\n",
    "def PAL(y, theta, R=19):\n",
    "    X = np.array([X1, X2, X3, X4]) \n",
    "    X_all = np.array([X for r in range(R+1)])\n",
    "    B = theta[:16].reshape(4,4)\n",
    "    L = np.zeros((R, 4))\n",
    "    for r in range(R):\n",
    "        G = np.zeros((7, 4, 4, 4))\n",
    "        for i in range(6):\n",
    "            I =  X[:, 2]   \n",
    "            betas = 1/8000 * np.dot(B, I)\n",
    "            for k in range(4):\n",
    "                G[i][k] = np.multiply(np.outer(np.ones(4), X[k]), K(k, betas))\n",
    "                X[k] = np.transpose(np.dot(np.transpose(np.ones(4)), G[i][k]))\n",
    "        I =  X[:, 2]   \n",
    "        betas = 1/8000 * np.dot(B, I)\n",
    "        for k in range(4):\n",
    "            G[6][k] = np.multiply(np.outer(np.ones(4), X[k]), K(k, betas))\n",
    "            M = np.zeros((4,4))\n",
    "            Q = np.zeros((4,4))\n",
    "            Q[1][2] = theta[k+16]\n",
    "            for i in range(7):\n",
    "                M = M + np.multiply(G[i][k], Q)\n",
    "            Y_bar = np.zeros((4,4))\n",
    "            Y_bar[1][2] = y[r][k]\n",
    "            G_bar = np.multiply(np.outer(np.ones(4), np.ones(4))-Q, G[i][k]) + np.multiply(Y_bar, np.multiply(G[6][k], division(Q, M)))\n",
    "            X[k] = np.transpose(np.dot(np.transpose(np.ones(4)), G_bar))\n",
    "            L[r][k] = -np.dot(np.transpose(np.ones(4)), np.dot(M, np.ones(4))) + np.dot(np.transpose(np.ones(4)), np.dot(np.multiply(Y_bar, np.log(M)), np.ones(4))) - np.dot(np.transpose(np.ones(4)), np.dot(np.log(factorial(Y_bar)), np.ones(4)))\n",
    "    return L"
   ]
  },
  {
   "cell_type": "code",
   "execution_count": 52,
   "id": "e1aebb01-0c87-464c-8945-9195472805ed",
   "metadata": {},
   "outputs": [
    {
     "name": "stderr",
     "output_type": "stream",
     "text": [
      "/tmp/ipykernel_1037/341686687.py:7: RuntimeWarning: divide by zero encountered in divide\n",
      "  M = np.divide(P, Q_new)\n",
      "/tmp/ipykernel_1037/1823553022.py:33: RuntimeWarning: divide by zero encountered in log\n",
      "  L[r][k] = -np.dot(np.transpose(np.ones(4)), np.dot(M, np.ones(4))) + np.dot(np.transpose(np.ones(4)), np.dot(np.multiply(Y_bar, np.log(M)), np.ones(4))) - np.dot(np.transpose(np.ones(4)), np.dot(np.log(factorial(Y_bar)), np.ones(4)))\n",
      "/tmp/ipykernel_1037/1823553022.py:33: RuntimeWarning: invalid value encountered in multiply\n",
      "  L[r][k] = -np.dot(np.transpose(np.ones(4)), np.dot(M, np.ones(4))) + np.dot(np.transpose(np.ones(4)), np.dot(np.multiply(Y_bar, np.log(M)), np.ones(4))) - np.dot(np.transpose(np.ones(4)), np.dot(np.log(factorial(Y_bar)), np.ones(4)))\n"
     ]
    },
    {
     "data": {
      "text/plain": [
       "array([[ -15.40806819,  -15.41690456,  -16.28689861,  -16.11514292],\n",
       "       [          nan,          -inf,  -27.19846142,  -16.11514292],\n",
       "       [          nan,          -inf,  -22.0643394 ,  -17.32982327],\n",
       "       [         -inf,          -inf, -271.01687879,  -38.8327825 ],\n",
       "       [         -inf,          -inf,          -inf, -123.18525699],\n",
       "       [         -inf,          -inf,          -inf,  -45.25462849],\n",
       "       [         -inf,          -inf, -159.06718786,  -16.99389536],\n",
       "       [         -inf,          -inf,  -53.27053911,  -40.54263074],\n",
       "       [         -inf,          -inf,  -17.67574787,  -18.18314695],\n",
       "       [         -inf,          -inf,  -25.2278189 ,  -17.03568077],\n",
       "       [         -inf,          -inf,  -22.19668187,  -17.09394128],\n",
       "       [         -inf,          -inf,  -25.53018874,  -17.69238035],\n",
       "       [          nan,          -inf,  -30.71759404,  -16.81832958],\n",
       "       [          nan,          -inf,  -36.79555753,  -17.68425206],\n",
       "       [          nan,          -inf,  -33.07679331,  -19.74887794],\n",
       "       [          nan,          -inf,  -29.78743594,  -17.18825756],\n",
       "       [          nan,          -inf,  -30.49314287,  -19.1552682 ],\n",
       "       [         -inf,          -inf,  -23.79437869,  -17.29143216],\n",
       "       [         -inf,          -inf,  -24.02848159,  -16.48538642]])"
      ]
     },
     "execution_count": 52,
     "metadata": {},
     "output_type": "execute_result"
    }
   ],
   "source": [
    "theta = np.concatenate((np.random.gamma(5, 1, 16), truncnorm.rvs(a=0, b=1, loc=0.5, scale=0.5, size=4)), axis=None)\n",
    "Y = np.array([[0,0,1,1],[0,2,6,1],[0,2,4,2],[23,73,63,11],[63,208,173,41],[73,207,171,27],[66,150,143,7],[26,40,87,29],[17,18,33,12],[3,4,13,6],[2,6,16,5],[1,6,11,3],[0,1,6,5],[0,2,2,2],[0,1,3,0],[0,1,4,6],[0,1,3,0],[2,1,7,1], [1,1,6,2]])\n",
    "PAL(Y, theta, R=19)"
   ]
  },
  {
   "cell_type": "code",
   "execution_count": 37,
   "id": "a47292a1-2bea-4018-b11f-add0bd353542",
   "metadata": {},
   "outputs": [
    {
     "name": "stdout",
     "output_type": "stream",
     "text": [
      "[[0 0]\n",
      " [0 1]\n",
      " [0 2]\n",
      " [0 3]\n",
      " [1 0]\n",
      " [1 1]\n",
      " [1 2]\n",
      " [1 3]\n",
      " [2 0]\n",
      " [2 1]\n",
      " [2 2]\n",
      " [2 3]\n",
      " [3 0]\n",
      " [3 1]\n",
      " [3 2]\n",
      " [3 3]]\n"
     ]
    }
   ],
   "source": [
    "Q = np.zeros((4, 4))\n",
    "print(np.argwhere(Q == 0))"
   ]
  },
  {
   "cell_type": "code",
   "execution_count": null,
   "id": "f6b8b02d-ac2a-4356-8210-b641744f7309",
   "metadata": {},
   "outputs": [],
   "source": []
  }
 ],
 "metadata": {
  "kernelspec": {
   "display_name": "Python 3 (ipykernel)",
   "language": "python",
   "name": "python3"
  },
  "language_info": {
   "codemirror_mode": {
    "name": "ipython",
    "version": 3
   },
   "file_extension": ".py",
   "mimetype": "text/x-python",
   "name": "python",
   "nbconvert_exporter": "python",
   "pygments_lexer": "ipython3",
   "version": "3.12.7"
  }
 },
 "nbformat": 4,
 "nbformat_minor": 5
}
