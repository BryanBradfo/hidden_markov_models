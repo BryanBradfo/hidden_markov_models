{
 "cells": [
  {
   "cell_type": "code",
   "execution_count": 2,
   "id": "b7309b6f-eee7-42c9-8095-293a73aea891",
   "metadata": {},
   "outputs": [],
   "source": [
    "import numpy as np\n",
    "from scipy.stats import binom\n",
    "from scipy.stats import truncnorm\n",
    "from scipy.stats import gamma"
   ]
  },
  {
   "cell_type": "code",
   "execution_count": 3,
   "id": "b4fbdd37-6b38-4187-8552-d4346a8c354b",
   "metadata": {},
   "outputs": [],
   "source": [
    "# Parameters \n",
    "\n",
    "h = 1/7\n",
    "pho = 2/3\n",
    "g = 2/3\n",
    "R = 19\n",
    "T = 7*R"
   ]
  },
  {
   "cell_type": "code",
   "execution_count": 4,
   "id": "f6aca22e-b862-46f9-a165-b3a9bfb9d698",
   "metadata": {},
   "outputs": [],
   "source": [
    "#  Effective Sampling Size \n",
    "\n",
    "def ESS(W):                 # Takes an array as argument\n",
    "    return 1/np.sum(W**2)"
   ]
  },
  {
   "cell_type": "code",
   "execution_count": 5,
   "id": "9c60e355-a17c-4d2b-9e4c-c45b933e89a7",
   "metadata": {},
   "outputs": [],
   "source": [
    "# Mutation transition\n",
    "\n",
    "def mutation(theta, X):\n",
    "    #\n",
    "    X_new = X\n",
    "    S, E, I, R =  X_new[:, 0], X_new[:, 1], X_new[:, 2], X_new[:, 3]  \n",
    "    M = theta[:16].reshape(4,4)\n",
    "    betas = 1/8000 * np.dot(M, I)\n",
    "    B = np.random.binomial(S, np.ones(4)-np.exp(-h*betas)) \n",
    "    C = np.random.binomial(E, 1-np.exp(-h*pho)) \n",
    "    D = np.random.binomial(I, 1-np.exp(-h*g)) \n",
    "    S_new = S - B\n",
    "    E_new = E + B - C\n",
    "    I_new = I + C - D\n",
    "    R_new = R + D\n",
    "    X_new[:, 0], X_new[:, 1], X_new[:, 2], X_new[:, 3] = S_new, E_new, I_new, R_new\n",
    "    return X_new"
   ]
  },
  {
   "cell_type": "code",
   "execution_count": 6,
   "id": "e1cb3ecc-f11e-4776-ba63-f9ad0844b46f",
   "metadata": {},
   "outputs": [],
   "source": [
    "# Likelihood of y knowing theta\n",
    "\n",
    "def log_f(y, theta, X):\n",
    "    C = np.zeros((7,4))\n",
    "    for i in range(7):\n",
    "        X = mutation(theta, X)\n",
    "        C[i] = np.random.binomial(X[:, 1], 1-np.exp(-h*pho))\n",
    "    return(np.log(binom.pmf(y, np.sum(C, axis=0), theta[16:])+1.5))"
   ]
  },
  {
   "cell_type": "code",
   "execution_count": 7,
   "id": "3f2cb8e3-9060-4e8f-bc72-801e4fc9fcad",
   "metadata": {},
   "outputs": [],
   "source": [
    "# Initial settings\n",
    "X1 = np.array([948, 0, 1, 0])\n",
    "X2 = np.array([1689, 0, 1, 0])\n",
    "X3 = np.array([3466, 0, 1, 0])\n",
    "X4 = np.array([1894, 0, 1, 0])\n",
    "\n",
    "def BootstrapFilter(y, theta, ESS_min, N, R=19):\n",
    "    X = np.array([[X1, X2, X3, X4] for i in range(N)]) \n",
    "    w_init = np.zeros((N, 4))\n",
    "    X_all = np.array([X for r in range(R+1)])\n",
    "    #print(X_all)\n",
    "    for n in range(N):\n",
    "        w_init[n] = log_f(y[0], theta, X[n])\n",
    "    W_init = np.zeros((N, 4))\n",
    "    for n in range(N):\n",
    "        W_init[n] = np.divide(w_init[n], np.sum(w_init, axis=0))\n",
    "    W = W_init\n",
    "    w = w_init\n",
    "    X_all[1] = X\n",
    "    #print(X_all)\n",
    "    l=0\n",
    "    for r in range(R):\n",
    "        #print(X)\n",
    "        w_hats = np.zeros((N,4))\n",
    "        #print(w)\n",
    "        for k in range(4):\n",
    "            #print(k, W[:, k], ESS(W[:, k]))\n",
    "            if ESS(W[:, k]) < ESS_min:\n",
    "                A = np.random.choice(np.arange(0, N), size=N, p=W[:, k])\n",
    "                w_hat = np.zeros(N)\n",
    "            else:\n",
    "                l+=1\n",
    "                A = np.arange(0, N)\n",
    "                w_hat = w[:, k]\n",
    "                #print(l)\n",
    "            for n in range(N):\n",
    "                X[n][k] = X[A[n]][k]\n",
    "            w_hats[:, k] = w_hat\n",
    "        for n in range(N):\n",
    "            w[n] = w_hats[n]+log_f(y[r], theta, X[n])\n",
    "        for n in range(N):\n",
    "            W[n] = np.divide(w[n], np.sum(w, axis=0))\n",
    "        X_all[r+1] = X\n",
    "    return(X_all)"
   ]
  },
  {
   "cell_type": "code",
   "execution_count": 8,
   "id": "8dbc3fe1-cc22-4162-b368-81e9e97bf560",
   "metadata": {},
   "outputs": [],
   "source": [
    "theta = np.concatenate((np.random.gamma(5, 1, 16), truncnorm.rvs(a=0, b=1, loc=0.5, scale=0.5, size=4)), axis=None)\n",
    "Y = np.array([[0,0,1,1],[0,2,6,1],[0,2,4,2],[23,73,63,11],[63,208,173,41],[73,207,171,27],[66,150,143,7],[26,40,87,29],[17,18,33,12],[3,4,13,6],[2,6,16,5],[1,6,11,3],[0,1,6,5],[0,2,2,2],[0,1,3,0],[0,1,4,6],[0,1,3,0],[2,1,7,1], [1,1,6,2]])\n",
    "X_all = BootstrapFilter(Y, theta, 999, 1000, R=19)"
   ]
  },
  {
   "cell_type": "code",
   "execution_count": 9,
   "id": "c4fc00a2-686a-4917-9a5b-7923c60978a7",
   "metadata": {},
   "outputs": [
    {
     "name": "stdout",
     "output_type": "stream",
     "text": [
      "[[[  56  246  256  391]\n",
      "  [  97  457  476  660]\n",
      "  [  93  827  938 1609]\n",
      "  [ 103  438  534  820]]\n",
      "\n",
      " [[  61  239  288  361]\n",
      "  [  89  474  438  689]\n",
      "  [  89  823  941 1614]\n",
      "  [  93  461  527  814]]\n",
      "\n",
      " [[  66  247  262  374]\n",
      "  [  91  426  455  718]\n",
      "  [  58  725  920 1764]\n",
      "  [  84  431  470  910]]\n",
      "\n",
      " ...\n",
      "\n",
      " [[  52  241  279  377]\n",
      "  [  90  387  489  724]\n",
      "  [  64  718  984 1701]\n",
      "  [  74  444  545  832]]\n",
      "\n",
      " [[  46  248  268  387]\n",
      "  [  75  413  439  763]\n",
      "  [  70  756  953 1688]\n",
      "  [  77  467  539  812]]\n",
      "\n",
      " [[  58  253  244  394]\n",
      "  [  75  367  455  793]\n",
      "  [  66  697  911 1793]\n",
      "  [  70  440  506  879]]]\n"
     ]
    }
   ],
   "source": [
    "print(X_all[8])"
   ]
  },
  {
   "cell_type": "code",
   "execution_count": 10,
   "id": "3ffadb06-001b-494f-a505-f4a8b7528935",
   "metadata": {},
   "outputs": [],
   "source": [
    "def log_prior(theta):\n",
    "    prior = 1\n",
    "    for i in range(16):\n",
    "        prior = prior * gamma.pdf(theta[i], a=5, loc=0, scale=1)\n",
    "    for i in range(4):\n",
    "        prior = prior * truncnorm.pdf(theta[16+i], a=0, b=1, loc=0.5, scale=0.5)\n",
    "    return np.log(1+prior)"
   ]
  },
  {
   "cell_type": "code",
   "execution_count": 11,
   "id": "2d2c6378-3b99-4673-b872-8388104a45f0",
   "metadata": {},
   "outputs": [],
   "source": [
    "def LogL(y, theta, X):\n",
    "    L = np.zeros(4)\n",
    "    for r in range(R):\n",
    "        S = 0\n",
    "        for n in range(len(X[r])):\n",
    "            x = X[r][n]\n",
    "            S = S + np.exp(log_f(y[r], theta, x))\n",
    "        for k in range(4):\n",
    "            if S[k]==0:\n",
    "                L[k] = -100\n",
    "            else:\n",
    "                L[k] = L[k] + np.log(S[k]) - len(X[r])\n",
    "    return L+log_prior(theta)"
   ]
  },
  {
   "cell_type": "code",
   "execution_count": 16,
   "id": "8e5296d8-dfc9-4885-8e53-066a78492efa",
   "metadata": {},
   "outputs": [],
   "source": [
    "def PMMH(y, ESS_min, Nx, Nt, R=19):\n",
    "    theta = np.concatenate((np.random.gamma(5, 1, 16), truncnorm.rvs(a=0, b=1, loc=0.5, scale=0.5, size=4)), axis=None)\n",
    "    #print(theta)\n",
    "    thetas = np.array([theta for i in range(Nt)])\n",
    "    X = BootstrapFilter(y, theta, ESS_min, Nx, R=19)\n",
    "    L = LogL(y, theta, X)\n",
    "    for n in range(1, Nt):\n",
    "        theta_new =  np.concatenate((truncnorm.rvs(a=0, b=np.inf, loc=theta[:16], scale=0.1, size=16), truncnorm.rvs(a=0, b=1, loc=theta[16:], scale=0.1, size=4)), axis=None)\n",
    "        #print(theta_new)\n",
    "        X_new = BootstrapFilter(y, theta_new, ESS_min, Nx, R=19)\n",
    "        L_new = LogL(y, theta_new, X_new)\n",
    "        v = L_new - L\n",
    "        for k in range(4):      \n",
    "            u = np.random.uniform()\n",
    "            if np.log(u)<v[k]:\n",
    "                L[k] = L_new[k]\n",
    "                thetas[n][k:k+4] = theta_new[k:k+4]\n",
    "                thetas[n][16+k] = theta_new[16+k]\n",
    "                theta[k:k+4] = theta_new[k:k+4]\n",
    "                theta[16+k] = theta_new[16+k]\n",
    "            else:\n",
    "                thetas[n][k:k+4] = theta[k:k+4]\n",
    "                thetas[n][16+k] = theta[16+k]    \n",
    "    return thetas"
   ]
  },
  {
   "cell_type": "code",
   "execution_count": null,
   "id": "7ecdceff-ccce-4460-8c0e-b7b8dae8b7c4",
   "metadata": {},
   "outputs": [],
   "source": [
    "Y = np.array([[0,0,1,1],[0,2,6,1],[0,2,4,2],[23,73,63,11],[63,208,173,41],[73,207,171,27],[66,150,143,7],[26,40,87,29],[17,18,33,12],[3,4,13,6],[2,6,16,5],[1,6,11,3],[0,1,6,5],[0,2,2,2],[0,1,3,0],[0,1,4,6],[0,1,3,0],[2,1,7,1], [1,1,6,2]])\n",
    "PMMH(Y, 999, 100, 10000, R=19)"
   ]
  },
  {
   "cell_type": "code",
   "execution_count": null,
   "id": "68d820a0-1679-4c0d-921c-5d03c5f76ba2",
   "metadata": {},
   "outputs": [],
   "source": []
  }
 ],
 "metadata": {
  "kernelspec": {
   "display_name": "Python 3 (ipykernel)",
   "language": "python",
   "name": "python3"
  },
  "language_info": {
   "codemirror_mode": {
    "name": "ipython",
    "version": 3
   },
   "file_extension": ".py",
   "mimetype": "text/x-python",
   "name": "python",
   "nbconvert_exporter": "python",
   "pygments_lexer": "ipython3",
   "version": "3.12.7"
  }
 },
 "nbformat": 4,
 "nbformat_minor": 5
}
