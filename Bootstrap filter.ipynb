{
 "cells": [
  {
   "cell_type": "code",
   "execution_count": 1,
   "id": "b7309b6f-eee7-42c9-8095-293a73aea891",
   "metadata": {},
   "outputs": [],
   "source": [
    "import numpy as np\n",
    "from scipy.stats import binom\n",
    "from scipy.stats import truncnorm"
   ]
  },
  {
   "cell_type": "code",
   "execution_count": 2,
   "id": "b4fbdd37-6b38-4187-8552-d4346a8c354b",
   "metadata": {},
   "outputs": [],
   "source": [
    "# Parameters \n",
    "\n",
    "h = 1/7\n",
    "pho = 2/3\n",
    "gamma = 2/3\n",
    "R = 19\n",
    "T = 7*R"
   ]
  },
  {
   "cell_type": "code",
   "execution_count": 3,
   "id": "e9dab135-aa84-4336-a3d8-04856d568a86",
   "metadata": {},
   "outputs": [],
   "source": [
    "def truncated_normal(mean=0.5, sd=0.5, low=0, upp=1):\n",
    "    return truncnorm(\n",
    "        (low - mean) / sd, (upp - mean) / sd, loc=mean, scale=sd)"
   ]
  },
  {
   "cell_type": "code",
   "execution_count": 4,
   "id": "f6aca22e-b862-46f9-a165-b3a9bfb9d698",
   "metadata": {},
   "outputs": [],
   "source": [
    "#  Effective Sampling Size \n",
    "\n",
    "def ESS(W):                 # Takes an array as argument\n",
    "    return 1/np.sum(W**2)"
   ]
  },
  {
   "cell_type": "code",
   "execution_count": 5,
   "id": "9c60e355-a17c-4d2b-9e4c-c45b933e89a7",
   "metadata": {},
   "outputs": [],
   "source": [
    "# Mutation transition\n",
    "\n",
    "def mutation(theta, X):\n",
    "    #\n",
    "    X_new = X\n",
    "    S, E, I, R =  X_new[:, 0], X_new[:, 1], X_new[:, 2], X_new[:, 3]\n",
    "    M = theta[:16].reshape(4,4)\n",
    "    betas = 1/8000 * np.dot(M, I)\n",
    "    B = np.random.binomial(S, np.ones(4)-np.exp(-h*betas)) \n",
    "    C = np.random.binomial(E, 1-np.exp(-h*pho)) \n",
    "    D = np.random.binomial(I, 1-np.exp(-h*gamma)) \n",
    "    S_new = S - B\n",
    "    E_new = E + B - C\n",
    "    I_new = I + C - D\n",
    "    R_new = R + D\n",
    "    X_new[:, 0], X_new[:, 1], X_new[:, 2], X_new[:, 3] = S_new, E_new, I_new, R_new\n",
    "    return X_new"
   ]
  },
  {
   "cell_type": "code",
   "execution_count": 6,
   "id": "e1cb3ecc-f11e-4776-ba63-f9ad0844b46f",
   "metadata": {},
   "outputs": [],
   "source": [
    "# Likelihood of y knowing theta\n",
    "\n",
    "def log_likelihood(y, theta, X):\n",
    "    C = np.zeros((7,4))\n",
    "    for i in range(7):\n",
    "        X = mutation(theta, X)\n",
    "        C[i] = np.random.binomial(X[:, 1], 1-np.exp(-h*pho))\n",
    "    return(np.log(binom.pmf(y, np.sum(C, axis=0), theta[16:])+1.5))"
   ]
  },
  {
   "cell_type": "code",
   "execution_count": 25,
   "id": "3f2cb8e3-9060-4e8f-bc72-801e4fc9fcad",
   "metadata": {},
   "outputs": [],
   "source": [
    "# Initial settings\n",
    "X1 = np.array([948, 0, 1, 0])\n",
    "X2 = np.array([1689, 0, 1, 0])\n",
    "X3 = np.array([3466, 0, 1, 0])\n",
    "X4 = np.array([1894, 0, 1, 0])\n",
    "\n",
    "def BootstrapFilter(y, theta, ESS_min, N, R=19):\n",
    "    X = np.array([[X1, X2, X3, X4] for i in range(N)]) \n",
    "    w_init = np.zeros((N, 4))\n",
    "    X_all = np.array([X for r in range(R+1)])\n",
    "    #print(X_all)\n",
    "    for n in range(N):\n",
    "        w_init[n] = log_likelihood(y[0], theta, X[n])\n",
    "    W_init = np.zeros((N, 4))\n",
    "    for n in range(N):\n",
    "        W_init[n] = np.divide(w_init[n], np.sum(w_init, axis=0))\n",
    "    W = W_init\n",
    "    w = w_init\n",
    "    X_all[1] = X\n",
    "    #print(X_all)\n",
    "    for r in range(R):\n",
    "        #print(X)\n",
    "        w_hats = np.zeros((N,4))\n",
    "        #print(w)\n",
    "        for k in range(4):\n",
    "            #print(k, W[:, k], ESS(W[:, k]))\n",
    "            if ESS(W[:, k]) < ESS_min:\n",
    "                A = np.random.choice(np.arange(0, N), size=N, p=W[:, k])\n",
    "                w_hat = np.zeros(N)\n",
    "            else:\n",
    "                A = np.arange(0, N)\n",
    "                w_hat = w[:, k]\n",
    "            for n in range(N):\n",
    "                X[n][k] = X[A[n]][k]\n",
    "            w_hats[:, k] = w_hat\n",
    "        for n in range(N):\n",
    "            w[n] = w_hats[n]+log_likelihood(y[r], theta, X[n])\n",
    "        for n in range(N):\n",
    "            W[n] = np.divide(w[n], np.sum(w, axis=0))\n",
    "        X_all[r+1] = X\n",
    "    return(X_all)"
   ]
  },
  {
   "cell_type": "code",
   "execution_count": 31,
   "id": "8dbc3fe1-cc22-4162-b368-81e9e97bf560",
   "metadata": {},
   "outputs": [
    {
     "ename": "TypeError",
     "evalue": "'float' object cannot be interpreted as an integer",
     "output_type": "error",
     "traceback": [
      "\u001b[0;31m---------------------------------------------------------------------------\u001b[0m",
      "\u001b[0;31mTypeError\u001b[0m                                 Traceback (most recent call last)",
      "Cell \u001b[0;32mIn[31], line 3\u001b[0m\n\u001b[1;32m      1\u001b[0m theta \u001b[38;5;241m=\u001b[39m np\u001b[38;5;241m.\u001b[39mconcatenate((np\u001b[38;5;241m.\u001b[39mrandom\u001b[38;5;241m.\u001b[39mgamma(\u001b[38;5;241m5\u001b[39m, \u001b[38;5;241m1\u001b[39m, \u001b[38;5;241m16\u001b[39m), truncated_normal(mean\u001b[38;5;241m=\u001b[39m\u001b[38;5;241m0.5\u001b[39m, sd\u001b[38;5;241m=\u001b[39m\u001b[38;5;241m0.5\u001b[39m, low\u001b[38;5;241m=\u001b[39m\u001b[38;5;241m0\u001b[39m, upp\u001b[38;5;241m=\u001b[39m\u001b[38;5;241m1\u001b[39m)\u001b[38;5;241m.\u001b[39mrvs(\u001b[38;5;241m4\u001b[39m)), axis\u001b[38;5;241m=\u001b[39m\u001b[38;5;28;01mNone\u001b[39;00m)\n\u001b[1;32m      2\u001b[0m Y \u001b[38;5;241m=\u001b[39m np\u001b[38;5;241m.\u001b[39marray([[\u001b[38;5;241m0\u001b[39m,\u001b[38;5;241m0\u001b[39m,\u001b[38;5;241m1\u001b[39m,\u001b[38;5;241m1\u001b[39m],[\u001b[38;5;241m0\u001b[39m,\u001b[38;5;241m2\u001b[39m,\u001b[38;5;241m6\u001b[39m,\u001b[38;5;241m1\u001b[39m],[\u001b[38;5;241m0\u001b[39m,\u001b[38;5;241m2\u001b[39m,\u001b[38;5;241m4\u001b[39m,\u001b[38;5;241m2\u001b[39m],[\u001b[38;5;241m23\u001b[39m,\u001b[38;5;241m73\u001b[39m,\u001b[38;5;241m63\u001b[39m,\u001b[38;5;241m11\u001b[39m],[\u001b[38;5;241m63\u001b[39m,\u001b[38;5;241m208\u001b[39m,\u001b[38;5;241m173\u001b[39m,\u001b[38;5;241m41\u001b[39m],[\u001b[38;5;241m73\u001b[39m,\u001b[38;5;241m207\u001b[39m,\u001b[38;5;241m171\u001b[39m,\u001b[38;5;241m27\u001b[39m],[\u001b[38;5;241m66\u001b[39m,\u001b[38;5;241m150\u001b[39m,\u001b[38;5;241m143\u001b[39m,\u001b[38;5;241m7\u001b[39m],[\u001b[38;5;241m26\u001b[39m,\u001b[38;5;241m40\u001b[39m,\u001b[38;5;241m87\u001b[39m,\u001b[38;5;241m29\u001b[39m],[\u001b[38;5;241m17\u001b[39m,\u001b[38;5;241m18\u001b[39m,\u001b[38;5;241m33\u001b[39m,\u001b[38;5;241m12\u001b[39m],[\u001b[38;5;241m3\u001b[39m,\u001b[38;5;241m4\u001b[39m,\u001b[38;5;241m13\u001b[39m,\u001b[38;5;241m6\u001b[39m],[\u001b[38;5;241m2\u001b[39m,\u001b[38;5;241m6\u001b[39m,\u001b[38;5;241m16\u001b[39m,\u001b[38;5;241m5\u001b[39m],[\u001b[38;5;241m1\u001b[39m,\u001b[38;5;241m6\u001b[39m,\u001b[38;5;241m11\u001b[39m,\u001b[38;5;241m3\u001b[39m],[\u001b[38;5;241m0\u001b[39m,\u001b[38;5;241m1\u001b[39m,\u001b[38;5;241m6\u001b[39m,\u001b[38;5;241m5\u001b[39m],[\u001b[38;5;241m0\u001b[39m,\u001b[38;5;241m2\u001b[39m,\u001b[38;5;241m2\u001b[39m,\u001b[38;5;241m2\u001b[39m],[\u001b[38;5;241m0\u001b[39m,\u001b[38;5;241m1\u001b[39m,\u001b[38;5;241m3\u001b[39m,\u001b[38;5;241m0\u001b[39m],[\u001b[38;5;241m0\u001b[39m,\u001b[38;5;241m1\u001b[39m,\u001b[38;5;241m4\u001b[39m,\u001b[38;5;241m6\u001b[39m],[\u001b[38;5;241m0\u001b[39m,\u001b[38;5;241m1\u001b[39m,\u001b[38;5;241m3\u001b[39m,\u001b[38;5;241m0\u001b[39m],[\u001b[38;5;241m2\u001b[39m,\u001b[38;5;241m1\u001b[39m,\u001b[38;5;241m7\u001b[39m,\u001b[38;5;241m1\u001b[39m], [\u001b[38;5;241m1\u001b[39m,\u001b[38;5;241m1\u001b[39m,\u001b[38;5;241m6\u001b[39m,\u001b[38;5;241m2\u001b[39m]])\n\u001b[0;32m----> 3\u001b[0m X_all \u001b[38;5;241m=\u001b[39m \u001b[43mBootstrapFilter\u001b[49m\u001b[43m(\u001b[49m\u001b[43mY\u001b[49m\u001b[43m,\u001b[49m\u001b[43m \u001b[49m\u001b[43mtheta\u001b[49m\u001b[43m,\u001b[49m\u001b[43m \u001b[49m\u001b[38;5;241;43m100\u001b[39;49m\u001b[43m,\u001b[49m\u001b[43m \u001b[49m\u001b[38;5;241;43m99.9\u001b[39;49m\u001b[43m,\u001b[49m\u001b[43m \u001b[49m\u001b[43mR\u001b[49m\u001b[38;5;241;43m=\u001b[39;49m\u001b[38;5;241;43m19\u001b[39;49m\u001b[43m)\u001b[49m\n",
      "Cell \u001b[0;32mIn[25], line 8\u001b[0m, in \u001b[0;36mBootstrapFilter\u001b[0;34m(y, theta, ESS_min, N, R)\u001b[0m\n\u001b[1;32m      7\u001b[0m \u001b[38;5;28;01mdef\u001b[39;00m \u001b[38;5;21mBootstrapFilter\u001b[39m(y, theta, ESS_min, N, R\u001b[38;5;241m=\u001b[39m\u001b[38;5;241m19\u001b[39m):\n\u001b[0;32m----> 8\u001b[0m     X \u001b[38;5;241m=\u001b[39m np\u001b[38;5;241m.\u001b[39marray([[X1, X2, X3, X4] \u001b[38;5;28;01mfor\u001b[39;00m i \u001b[38;5;129;01min\u001b[39;00m \u001b[38;5;28;43mrange\u001b[39;49m\u001b[43m(\u001b[49m\u001b[43mN\u001b[49m\u001b[43m)\u001b[49m]) \n\u001b[1;32m      9\u001b[0m     w_init \u001b[38;5;241m=\u001b[39m np\u001b[38;5;241m.\u001b[39mzeros((N, \u001b[38;5;241m4\u001b[39m))\n\u001b[1;32m     10\u001b[0m     X_all \u001b[38;5;241m=\u001b[39m np\u001b[38;5;241m.\u001b[39marray([X \u001b[38;5;28;01mfor\u001b[39;00m r \u001b[38;5;129;01min\u001b[39;00m \u001b[38;5;28mrange\u001b[39m(R\u001b[38;5;241m+\u001b[39m\u001b[38;5;241m1\u001b[39m)])\n",
      "\u001b[0;31mTypeError\u001b[0m: 'float' object cannot be interpreted as an integer"
     ]
    }
   ],
   "source": [
    "theta = np.concatenate((np.random.gamma(5, 1, 16), truncated_normal(mean=0.5, sd=0.5, low=0, upp=1).rvs(4)), axis=None)\n",
    "Y = np.array([[0,0,1,1],[0,2,6,1],[0,2,4,2],[23,73,63,11],[63,208,173,41],[73,207,171,27],[66,150,143,7],[26,40,87,29],[17,18,33,12],[3,4,13,6],[2,6,16,5],[1,6,11,3],[0,1,6,5],[0,2,2,2],[0,1,3,0],[0,1,4,6],[0,1,3,0],[2,1,7,1], [1,1,6,2]])\n",
    "X_all = BootstrapFilter(Y, theta, , 100, R=19)"
   ]
  },
  {
   "cell_type": "code",
   "execution_count": 30,
   "id": "c4fc00a2-686a-4917-9a5b-7923c60978a7",
   "metadata": {},
   "outputs": [
    {
     "name": "stdout",
     "output_type": "stream",
     "text": [
      "[[[ 101  226  250  372]\n",
      "  [  44  297  446  903]\n",
      "  [   2  353  729 2383]\n",
      "  [  45  343  484 1023]]\n",
      "\n",
      " [[ 110  243  242  354]\n",
      "  [  41  328  452  869]\n",
      "  [  13  602  833 2019]\n",
      "  [  48  339  514  994]]\n",
      "\n",
      " [[ 117  251  230  351]\n",
      "  [  32  310  461  887]\n",
      "  [   4  375  717 2371]\n",
      "  [  37  366  495  997]]\n",
      "\n",
      " ...\n",
      "\n",
      " [[ 111  240  221  377]\n",
      "  [  26  320  441  903]\n",
      "  [   8  432  761 2266]\n",
      "  [  44  362  519  970]]\n",
      "\n",
      " [[ 114  226  248  361]\n",
      "  [  38  323  423  906]\n",
      "  [   6  440  848 2173]\n",
      "  [  46  355  514  980]]\n",
      "\n",
      " [[  95  233  226  395]\n",
      "  [  34  299  451  906]\n",
      "  [   7  415  806 2239]\n",
      "  [  43  324  513 1015]]]\n"
     ]
    }
   ],
   "source": [
    "print(X_all[8])"
   ]
  },
  {
   "cell_type": "code",
   "execution_count": null,
   "id": "2d2c6378-3b99-4673-b872-8388104a45f0",
   "metadata": {},
   "outputs": [],
   "source": [
    "def LogL(y, theta, X):\n",
    "    L = 0\n",
    "    for r in range(R):\n",
    "        S = 0\n",
    "        for n in range(len(X[r]):\n",
    "            x = X[r]\n",
    "            S = S + log_likelihood(y[r], theta, x)"
   ]
  },
  {
   "cell_type": "code",
   "execution_count": 504,
   "id": "8e5296d8-dfc9-4885-8e53-066a78492efa",
   "metadata": {},
   "outputs": [],
   "source": [
    "def PMMH(y, ESS_min, Nx, Nt, R=19):\n",
    "    thetas = []\n",
    "    theta = np.concatenate((np.random.gamma(5, 1, 16), truncated_normal(mean=0.5, sd=0.5, low=0, upp=1).rvs(4)), axis=None)\n",
    "    thetas.append(theta)\n",
    "    X = BootstrapFilter(y, theta, ESS_min, Nx, R=19)\n",
    "    L = LogL(y, theta, X)\n",
    "    for n in range(Nt):\n",
    "        theta_new = np.concatenate((np.random.gamma(5, 1, 16), truncated_normal(mean=0.5, sd=0.5, low=0, upp=1).rvs(4)), axis=None)\n",
    "        X_new = BootstrapFilter(y, theta_new, ESS_min, Nx, R=19)\n",
    "        L_new = LogL(y, theta_new, X_new)\n",
    "        v = L_new - L\n",
    "        u = np.random.uniform()\n",
    "        if np.log(u)<v:\n",
    "            L = L_new\n",
    "            thetas.append(theta_new)\n",
    "        else:\n",
    "            thetas.append(thetas[-1])\n",
    "    return thetas"
   ]
  },
  {
   "cell_type": "code",
   "execution_count": null,
   "id": "7ecdceff-ccce-4460-8c0e-b7b8dae8b7c4",
   "metadata": {},
   "outputs": [],
   "source": []
  }
 ],
 "metadata": {
  "kernelspec": {
   "display_name": "Python 3 (ipykernel)",
   "language": "python",
   "name": "python3"
  },
  "language_info": {
   "codemirror_mode": {
    "name": "ipython",
    "version": 3
   },
   "file_extension": ".py",
   "mimetype": "text/x-python",
   "name": "python",
   "nbconvert_exporter": "python",
   "pygments_lexer": "ipython3",
   "version": "3.12.7"
  }
 },
 "nbformat": 4,
 "nbformat_minor": 5
}
