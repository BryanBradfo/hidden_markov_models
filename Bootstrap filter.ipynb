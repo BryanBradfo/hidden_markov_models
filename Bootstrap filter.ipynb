{
 "cells": [
  {
   "cell_type": "code",
   "execution_count": 37,
   "id": "b7309b6f-eee7-42c9-8095-293a73aea891",
   "metadata": {},
   "outputs": [],
   "source": [
    "import numpy as np\n",
    "from scipy.stats import binom\n",
    "from scipy.stats import truncnorm\n",
    "from scipy.stats import gamma"
   ]
  },
  {
   "cell_type": "code",
   "execution_count": 44,
   "id": "b4fbdd37-6b38-4187-8552-d4346a8c354b",
   "metadata": {},
   "outputs": [],
   "source": [
    "# Parameters \n",
    "\n",
    "h = 1/7\n",
    "pho = 2/3\n",
    "g = 2/3\n",
    "R = 19\n",
    "T = 7*R"
   ]
  },
  {
   "cell_type": "code",
   "execution_count": 45,
   "id": "f6aca22e-b862-46f9-a165-b3a9bfb9d698",
   "metadata": {},
   "outputs": [],
   "source": [
    "#  Effective Sampling Size \n",
    "\n",
    "def ESS(W):                 # Takes an array as argument\n",
    "    return 1/np.sum(W**2)"
   ]
  },
  {
   "cell_type": "code",
   "execution_count": 46,
   "id": "9c60e355-a17c-4d2b-9e4c-c45b933e89a7",
   "metadata": {},
   "outputs": [],
   "source": [
    "# Mutation transition\n",
    "\n",
    "def mutation(theta, X):\n",
    "    #\n",
    "    X_new = X\n",
    "    S, E, I, R =  X_new[:, 0], X_new[:, 1], X_new[:, 2], X_new[:, 3]\n",
    "    M = theta[:16].reshape(4,4)\n",
    "    betas = 1/8000 * np.dot(M, I)\n",
    "    B = np.random.binomial(S, np.ones(4)-np.exp(-h*betas)) \n",
    "    C = np.random.binomial(E, 1-np.exp(-h*pho)) \n",
    "    D = np.random.binomial(I, 1-np.exp(-h*g)) \n",
    "    S_new = S - B\n",
    "    E_new = E + B - C\n",
    "    I_new = I + C - D\n",
    "    R_new = R + D\n",
    "    X_new[:, 0], X_new[:, 1], X_new[:, 2], X_new[:, 3] = S_new, E_new, I_new, R_new\n",
    "    return X_new"
   ]
  },
  {
   "cell_type": "code",
   "execution_count": 106,
   "id": "e1cb3ecc-f11e-4776-ba63-f9ad0844b46f",
   "metadata": {},
   "outputs": [],
   "source": [
    "# Likelihood of y knowing theta\n",
    "\n",
    "def log_f(y, theta, X):\n",
    "    C = np.zeros((7,4))\n",
    "    for i in range(7):\n",
    "        X = mutation(theta, X)\n",
    "        C[i] = np.random.binomial(X[:, 1], 1-np.exp(-h*pho))\n",
    "    return(np.log(binom.pmf(y, np.sum(C, axis=0), theta[16:])+1.5))"
   ]
  },
  {
   "cell_type": "code",
   "execution_count": 107,
   "id": "3f2cb8e3-9060-4e8f-bc72-801e4fc9fcad",
   "metadata": {},
   "outputs": [],
   "source": [
    "# Initial settings\n",
    "X1 = np.array([948, 0, 1, 0])\n",
    "X2 = np.array([1689, 0, 1, 0])\n",
    "X3 = np.array([3466, 0, 1, 0])\n",
    "X4 = np.array([1894, 0, 1, 0])\n",
    "\n",
    "def BootstrapFilter(y, theta, ESS_min, N, R=19):\n",
    "    X = np.array([[X1, X2, X3, X4] for i in range(N)]) \n",
    "    w_init = np.zeros((N, 4))\n",
    "    X_all = np.array([X for r in range(R+1)])\n",
    "    #print(X_all)\n",
    "    for n in range(N):\n",
    "        w_init[n] = log_f(y[0], theta, X[n])\n",
    "    W_init = np.zeros((N, 4))\n",
    "    for n in range(N):\n",
    "        W_init[n] = np.divide(w_init[n], np.sum(w_init, axis=0))\n",
    "    W = W_init\n",
    "    w = w_init\n",
    "    X_all[1] = X\n",
    "    #print(X_all)\n",
    "    l=0\n",
    "    for r in range(R):\n",
    "        #print(X)\n",
    "        w_hats = np.zeros((N,4))\n",
    "        #print(w)\n",
    "        for k in range(4):\n",
    "            #print(k, W[:, k], ESS(W[:, k]))\n",
    "            if ESS(W[:, k]) < ESS_min:\n",
    "                A = np.random.choice(np.arange(0, N), size=N, p=W[:, k])\n",
    "                w_hat = np.zeros(N)\n",
    "            else:\n",
    "                l+=1\n",
    "                A = np.arange(0, N)\n",
    "                w_hat = w[:, k]\n",
    "                #print(l)\n",
    "            for n in range(N):\n",
    "                X[n][k] = X[A[n]][k]\n",
    "            w_hats[:, k] = w_hat\n",
    "        for n in range(N):\n",
    "            w[n] = w_hats[n]+log_f(y[r], theta, X[n])\n",
    "        for n in range(N):\n",
    "            W[n] = np.divide(w[n], np.sum(w, axis=0))\n",
    "        X_all[r+1] = X\n",
    "    return(X_all)"
   ]
  },
  {
   "cell_type": "code",
   "execution_count": 108,
   "id": "8dbc3fe1-cc22-4162-b368-81e9e97bf560",
   "metadata": {},
   "outputs": [],
   "source": [
    "theta = np.concatenate((np.random.gamma(5, 1, 16), truncnorm.rvs(a=0, b=1, loc=0.5, scale=0.5, size=4)), axis=None)\n",
    "Y = np.array([[0,0,1,1],[0,2,6,1],[0,2,4,2],[23,73,63,11],[63,208,173,41],[73,207,171,27],[66,150,143,7],[26,40,87,29],[17,18,33,12],[3,4,13,6],[2,6,16,5],[1,6,11,3],[0,1,6,5],[0,2,2,2],[0,1,3,0],[0,1,4,6],[0,1,3,0],[2,1,7,1], [1,1,6,2]])\n",
    "X_all = BootstrapFilter(Y, theta, 999, 1000, R=19)"
   ]
  },
  {
   "cell_type": "code",
   "execution_count": 109,
   "id": "c4fc00a2-686a-4917-9a5b-7923c60978a7",
   "metadata": {},
   "outputs": [
    {
     "name": "stdout",
     "output_type": "stream",
     "text": [
      "[[[  82  297  246  324]\n",
      "  [ 365  513  394  418]\n",
      "  [1039 1027  677  724]\n",
      "  [ 150  573  514  658]]\n",
      "\n",
      " [[  59  312  239  339]\n",
      "  [ 347  523  371  449]\n",
      "  [ 922  975  717  853]\n",
      "  [ 124  548  537  686]]\n",
      "\n",
      " [[  89  297  246  317]\n",
      "  [ 334  511  406  439]\n",
      "  [ 960 1023  704  780]\n",
      "  [ 136  593  502  664]]\n",
      "\n",
      " ...\n",
      "\n",
      " [[  60  282  250  357]\n",
      "  [ 256  481  433  520]\n",
      "  [ 786  992  767  922]\n",
      "  [  92  513  500  790]]\n",
      "\n",
      " [[  96  286  268  299]\n",
      "  [ 391  519  373  407]\n",
      "  [1116  977  679  695]\n",
      "  [ 163  614  491  627]]\n",
      "\n",
      " [[  72  296  258  323]\n",
      "  [ 361  523  390  416]\n",
      "  [1144  998  673  652]\n",
      "  [ 143  620  511  621]]]\n"
     ]
    }
   ],
   "source": [
    "print(X_all[8])"
   ]
  },
  {
   "cell_type": "code",
   "execution_count": 88,
   "id": "3ffadb06-001b-494f-a505-f4a8b7528935",
   "metadata": {},
   "outputs": [],
   "source": [
    "def log_prior(theta):\n",
    "    prior = 1\n",
    "    for i in range(16):\n",
    "        prior = prior * gamma.pdf(theta[i], a=5, loc=0, scale=1)\n",
    "    for i in range(4):\n",
    "        prior = prior * truncnorm.pdf(theta[16+i], a=0, b=1, loc=0.5, scale=0.5)\n",
    "    return np.log(1+prior)"
   ]
  },
  {
   "cell_type": "code",
   "execution_count": 103,
   "id": "2d2c6378-3b99-4673-b872-8388104a45f0",
   "metadata": {},
   "outputs": [],
   "source": [
    "def LogL(y, theta, X):\n",
    "    L = np.zeros(4)\n",
    "    for r in range(R):\n",
    "        S = 0\n",
    "        for n in range(len(X[r])):\n",
    "            x = X[r][n]\n",
    "            S = S + np.exp(log_f(y[r], theta, x))\n",
    "        for k in range(4):\n",
    "            if S[k]==0:\n",
    "                L[k] = -100\n",
    "            else:\n",
    "                L[k] = L[k] + np.log(S[k]) - len(X[r])\n",
    "    return L+log_prior(theta)"
   ]
  },
  {
   "cell_type": "code",
   "execution_count": 104,
   "id": "8e5296d8-dfc9-4885-8e53-066a78492efa",
   "metadata": {},
   "outputs": [],
   "source": [
    "def PMMH(y, ESS_min, Nx, Nt, R=19):\n",
    "    theta = np.concatenate((np.random.gamma(5, 1, 16), truncnorm.rvs(a=0, b=1, loc=0.5, scale=0.5, size=4)), axis=None)\n",
    "    #print(theta)\n",
    "    thetas = np.array([theta for i in range(Nt)])\n",
    "    X = BootstrapFilter(y, theta, ESS_min, Nx, R=19)\n",
    "    L = LogL(y, theta, X)\n",
    "    for n in range(1, Nt):\n",
    "        theta_new =  theta + np.random.normal(loc=0, scale=0.25, size=20)\n",
    "        #print(theta_new)\n",
    "        X_new = BootstrapFilter(y, theta_new, ESS_min, Nx, R=19)\n",
    "        L_new = LogL(y, theta_new, X_new)\n",
    "        v = L_new - L\n",
    "        for k in range(4):      \n",
    "            u = np.random.uniform()\n",
    "            if np.log(u)<v[k]:\n",
    "                L[k] = L_new[k]\n",
    "                thetas[n][k:k+4] = theta_new[k:k+4]\n",
    "                thetas[n][16+k] = theta_new[16+k]\n",
    "                theta[k:k+4] = theta_new[k:k+4]\n",
    "                theta[16+k] = theta_new[16+k]\n",
    "            else:\n",
    "                thetas[n][k:k+4] = theta[k:k+4]\n",
    "                thetas[n][16+k] = theta[16+k]    \n",
    "    return thetas"
   ]
  },
  {
   "cell_type": "code",
   "execution_count": 105,
   "id": "7ecdceff-ccce-4460-8c0e-b7b8dae8b7c4",
   "metadata": {},
   "outputs": [
    {
     "ename": "ValueError",
     "evalue": "p < 0, p > 1 or p contains NaNs",
     "output_type": "error",
     "traceback": [
      "\u001b[0;31m---------------------------------------------------------------------------\u001b[0m",
      "\u001b[0;31mValueError\u001b[0m                                Traceback (most recent call last)",
      "Cell \u001b[0;32mIn[105], line 2\u001b[0m\n\u001b[1;32m      1\u001b[0m Y \u001b[38;5;241m=\u001b[39m np\u001b[38;5;241m.\u001b[39marray([[\u001b[38;5;241m0\u001b[39m,\u001b[38;5;241m0\u001b[39m,\u001b[38;5;241m1\u001b[39m,\u001b[38;5;241m1\u001b[39m],[\u001b[38;5;241m0\u001b[39m,\u001b[38;5;241m2\u001b[39m,\u001b[38;5;241m6\u001b[39m,\u001b[38;5;241m1\u001b[39m],[\u001b[38;5;241m0\u001b[39m,\u001b[38;5;241m2\u001b[39m,\u001b[38;5;241m4\u001b[39m,\u001b[38;5;241m2\u001b[39m],[\u001b[38;5;241m23\u001b[39m,\u001b[38;5;241m73\u001b[39m,\u001b[38;5;241m63\u001b[39m,\u001b[38;5;241m11\u001b[39m],[\u001b[38;5;241m63\u001b[39m,\u001b[38;5;241m208\u001b[39m,\u001b[38;5;241m173\u001b[39m,\u001b[38;5;241m41\u001b[39m],[\u001b[38;5;241m73\u001b[39m,\u001b[38;5;241m207\u001b[39m,\u001b[38;5;241m171\u001b[39m,\u001b[38;5;241m27\u001b[39m],[\u001b[38;5;241m66\u001b[39m,\u001b[38;5;241m150\u001b[39m,\u001b[38;5;241m143\u001b[39m,\u001b[38;5;241m7\u001b[39m],[\u001b[38;5;241m26\u001b[39m,\u001b[38;5;241m40\u001b[39m,\u001b[38;5;241m87\u001b[39m,\u001b[38;5;241m29\u001b[39m],[\u001b[38;5;241m17\u001b[39m,\u001b[38;5;241m18\u001b[39m,\u001b[38;5;241m33\u001b[39m,\u001b[38;5;241m12\u001b[39m],[\u001b[38;5;241m3\u001b[39m,\u001b[38;5;241m4\u001b[39m,\u001b[38;5;241m13\u001b[39m,\u001b[38;5;241m6\u001b[39m],[\u001b[38;5;241m2\u001b[39m,\u001b[38;5;241m6\u001b[39m,\u001b[38;5;241m16\u001b[39m,\u001b[38;5;241m5\u001b[39m],[\u001b[38;5;241m1\u001b[39m,\u001b[38;5;241m6\u001b[39m,\u001b[38;5;241m11\u001b[39m,\u001b[38;5;241m3\u001b[39m],[\u001b[38;5;241m0\u001b[39m,\u001b[38;5;241m1\u001b[39m,\u001b[38;5;241m6\u001b[39m,\u001b[38;5;241m5\u001b[39m],[\u001b[38;5;241m0\u001b[39m,\u001b[38;5;241m2\u001b[39m,\u001b[38;5;241m2\u001b[39m,\u001b[38;5;241m2\u001b[39m],[\u001b[38;5;241m0\u001b[39m,\u001b[38;5;241m1\u001b[39m,\u001b[38;5;241m3\u001b[39m,\u001b[38;5;241m0\u001b[39m],[\u001b[38;5;241m0\u001b[39m,\u001b[38;5;241m1\u001b[39m,\u001b[38;5;241m4\u001b[39m,\u001b[38;5;241m6\u001b[39m],[\u001b[38;5;241m0\u001b[39m,\u001b[38;5;241m1\u001b[39m,\u001b[38;5;241m3\u001b[39m,\u001b[38;5;241m0\u001b[39m],[\u001b[38;5;241m2\u001b[39m,\u001b[38;5;241m1\u001b[39m,\u001b[38;5;241m7\u001b[39m,\u001b[38;5;241m1\u001b[39m], [\u001b[38;5;241m1\u001b[39m,\u001b[38;5;241m1\u001b[39m,\u001b[38;5;241m6\u001b[39m,\u001b[38;5;241m2\u001b[39m]])\n\u001b[0;32m----> 2\u001b[0m \u001b[43mPMMH\u001b[49m\u001b[43m(\u001b[49m\u001b[43mY\u001b[49m\u001b[43m,\u001b[49m\u001b[43m \u001b[49m\u001b[38;5;241;43m999\u001b[39;49m\u001b[43m,\u001b[49m\u001b[43m \u001b[49m\u001b[38;5;241;43m100\u001b[39;49m\u001b[43m,\u001b[49m\u001b[43m \u001b[49m\u001b[38;5;241;43m100\u001b[39;49m\u001b[43m,\u001b[49m\u001b[43m \u001b[49m\u001b[43mR\u001b[49m\u001b[38;5;241;43m=\u001b[39;49m\u001b[38;5;241;43m19\u001b[39;49m\u001b[43m)\u001b[49m\n",
      "Cell \u001b[0;32mIn[104], line 10\u001b[0m, in \u001b[0;36mPMMH\u001b[0;34m(y, ESS_min, Nx, Nt, R)\u001b[0m\n\u001b[1;32m      8\u001b[0m theta_new \u001b[38;5;241m=\u001b[39m  theta \u001b[38;5;241m+\u001b[39m np\u001b[38;5;241m.\u001b[39mrandom\u001b[38;5;241m.\u001b[39mnormal(loc\u001b[38;5;241m=\u001b[39m\u001b[38;5;241m0\u001b[39m, scale\u001b[38;5;241m=\u001b[39m\u001b[38;5;241m0.25\u001b[39m, size\u001b[38;5;241m=\u001b[39m\u001b[38;5;241m20\u001b[39m)\n\u001b[1;32m      9\u001b[0m \u001b[38;5;66;03m#print(theta_new)\u001b[39;00m\n\u001b[0;32m---> 10\u001b[0m X_new \u001b[38;5;241m=\u001b[39m \u001b[43mBootstrapFilter\u001b[49m\u001b[43m(\u001b[49m\u001b[43my\u001b[49m\u001b[43m,\u001b[49m\u001b[43m \u001b[49m\u001b[43mtheta_new\u001b[49m\u001b[43m,\u001b[49m\u001b[43m \u001b[49m\u001b[43mESS_min\u001b[49m\u001b[43m,\u001b[49m\u001b[43m \u001b[49m\u001b[43mNx\u001b[49m\u001b[43m,\u001b[49m\u001b[43m \u001b[49m\u001b[43mR\u001b[49m\u001b[38;5;241;43m=\u001b[39;49m\u001b[38;5;241;43m19\u001b[39;49m\u001b[43m)\u001b[49m\n\u001b[1;32m     11\u001b[0m L_new \u001b[38;5;241m=\u001b[39m LogL(y, theta_new, X_new)\n\u001b[1;32m     12\u001b[0m v \u001b[38;5;241m=\u001b[39m L_new \u001b[38;5;241m-\u001b[39m L\n",
      "Cell \u001b[0;32mIn[74], line 13\u001b[0m, in \u001b[0;36mBootstrapFilter\u001b[0;34m(y, theta, ESS_min, N, R)\u001b[0m\n\u001b[1;32m     11\u001b[0m \u001b[38;5;66;03m#print(X_all)\u001b[39;00m\n\u001b[1;32m     12\u001b[0m \u001b[38;5;28;01mfor\u001b[39;00m n \u001b[38;5;129;01min\u001b[39;00m \u001b[38;5;28mrange\u001b[39m(N):\n\u001b[0;32m---> 13\u001b[0m     w_init[n] \u001b[38;5;241m=\u001b[39m \u001b[43mlog_likelihood\u001b[49m\u001b[43m(\u001b[49m\u001b[43my\u001b[49m\u001b[43m[\u001b[49m\u001b[38;5;241;43m0\u001b[39;49m\u001b[43m]\u001b[49m\u001b[43m,\u001b[49m\u001b[43m \u001b[49m\u001b[43mtheta\u001b[49m\u001b[43m,\u001b[49m\u001b[43m \u001b[49m\u001b[43mX\u001b[49m\u001b[43m[\u001b[49m\u001b[43mn\u001b[49m\u001b[43m]\u001b[49m\u001b[43m)\u001b[49m\n\u001b[1;32m     14\u001b[0m W_init \u001b[38;5;241m=\u001b[39m np\u001b[38;5;241m.\u001b[39mzeros((N, \u001b[38;5;241m4\u001b[39m))\n\u001b[1;32m     15\u001b[0m \u001b[38;5;28;01mfor\u001b[39;00m n \u001b[38;5;129;01min\u001b[39;00m \u001b[38;5;28mrange\u001b[39m(N):\n",
      "Cell \u001b[0;32mIn[47], line 6\u001b[0m, in \u001b[0;36mlog_likelihood\u001b[0;34m(y, theta, X)\u001b[0m\n\u001b[1;32m      4\u001b[0m C \u001b[38;5;241m=\u001b[39m np\u001b[38;5;241m.\u001b[39mzeros((\u001b[38;5;241m7\u001b[39m,\u001b[38;5;241m4\u001b[39m))\n\u001b[1;32m      5\u001b[0m \u001b[38;5;28;01mfor\u001b[39;00m i \u001b[38;5;129;01min\u001b[39;00m \u001b[38;5;28mrange\u001b[39m(\u001b[38;5;241m7\u001b[39m):\n\u001b[0;32m----> 6\u001b[0m     X \u001b[38;5;241m=\u001b[39m \u001b[43mmutation\u001b[49m\u001b[43m(\u001b[49m\u001b[43mtheta\u001b[49m\u001b[43m,\u001b[49m\u001b[43m \u001b[49m\u001b[43mX\u001b[49m\u001b[43m)\u001b[49m\n\u001b[1;32m      7\u001b[0m     C[i] \u001b[38;5;241m=\u001b[39m np\u001b[38;5;241m.\u001b[39mrandom\u001b[38;5;241m.\u001b[39mbinomial(X[:, \u001b[38;5;241m1\u001b[39m], \u001b[38;5;241m1\u001b[39m\u001b[38;5;241m-\u001b[39mnp\u001b[38;5;241m.\u001b[39mexp(\u001b[38;5;241m-\u001b[39mh\u001b[38;5;241m*\u001b[39mpho))\n\u001b[1;32m      8\u001b[0m \u001b[38;5;28;01mreturn\u001b[39;00m(np\u001b[38;5;241m.\u001b[39mlog(binom\u001b[38;5;241m.\u001b[39mpmf(y, np\u001b[38;5;241m.\u001b[39msum(C, axis\u001b[38;5;241m=\u001b[39m\u001b[38;5;241m0\u001b[39m), theta[\u001b[38;5;241m16\u001b[39m:])\u001b[38;5;241m+\u001b[39m\u001b[38;5;241m1.5\u001b[39m))\n",
      "Cell \u001b[0;32mIn[46], line 9\u001b[0m, in \u001b[0;36mmutation\u001b[0;34m(theta, X)\u001b[0m\n\u001b[1;32m      7\u001b[0m M \u001b[38;5;241m=\u001b[39m theta[:\u001b[38;5;241m16\u001b[39m]\u001b[38;5;241m.\u001b[39mreshape(\u001b[38;5;241m4\u001b[39m,\u001b[38;5;241m4\u001b[39m)\n\u001b[1;32m      8\u001b[0m betas \u001b[38;5;241m=\u001b[39m \u001b[38;5;241m1\u001b[39m\u001b[38;5;241m/\u001b[39m\u001b[38;5;241m8000\u001b[39m \u001b[38;5;241m*\u001b[39m np\u001b[38;5;241m.\u001b[39mdot(M, I)\n\u001b[0;32m----> 9\u001b[0m B \u001b[38;5;241m=\u001b[39m \u001b[43mnp\u001b[49m\u001b[38;5;241;43m.\u001b[39;49m\u001b[43mrandom\u001b[49m\u001b[38;5;241;43m.\u001b[39;49m\u001b[43mbinomial\u001b[49m\u001b[43m(\u001b[49m\u001b[43mS\u001b[49m\u001b[43m,\u001b[49m\u001b[43m \u001b[49m\u001b[43mnp\u001b[49m\u001b[38;5;241;43m.\u001b[39;49m\u001b[43mones\u001b[49m\u001b[43m(\u001b[49m\u001b[38;5;241;43m4\u001b[39;49m\u001b[43m)\u001b[49m\u001b[38;5;241;43m-\u001b[39;49m\u001b[43mnp\u001b[49m\u001b[38;5;241;43m.\u001b[39;49m\u001b[43mexp\u001b[49m\u001b[43m(\u001b[49m\u001b[38;5;241;43m-\u001b[39;49m\u001b[43mh\u001b[49m\u001b[38;5;241;43m*\u001b[39;49m\u001b[43mbetas\u001b[49m\u001b[43m)\u001b[49m\u001b[43m)\u001b[49m \n\u001b[1;32m     10\u001b[0m C \u001b[38;5;241m=\u001b[39m np\u001b[38;5;241m.\u001b[39mrandom\u001b[38;5;241m.\u001b[39mbinomial(E, \u001b[38;5;241m1\u001b[39m\u001b[38;5;241m-\u001b[39mnp\u001b[38;5;241m.\u001b[39mexp(\u001b[38;5;241m-\u001b[39mh\u001b[38;5;241m*\u001b[39mpho)) \n\u001b[1;32m     11\u001b[0m D \u001b[38;5;241m=\u001b[39m np\u001b[38;5;241m.\u001b[39mrandom\u001b[38;5;241m.\u001b[39mbinomial(I, \u001b[38;5;241m1\u001b[39m\u001b[38;5;241m-\u001b[39mnp\u001b[38;5;241m.\u001b[39mexp(\u001b[38;5;241m-\u001b[39mh\u001b[38;5;241m*\u001b[39mg)) \n",
      "File \u001b[0;32mnumpy/random/mtrand.pyx:3473\u001b[0m, in \u001b[0;36mnumpy.random.mtrand.RandomState.binomial\u001b[0;34m()\u001b[0m\n",
      "File \u001b[0;32m_common.pyx:396\u001b[0m, in \u001b[0;36mnumpy.random._common.check_array_constraint\u001b[0;34m()\u001b[0m\n",
      "File \u001b[0;32m_common.pyx:382\u001b[0m, in \u001b[0;36mnumpy.random._common._check_array_cons_bounded_0_1\u001b[0;34m()\u001b[0m\n",
      "\u001b[0;31mValueError\u001b[0m: p < 0, p > 1 or p contains NaNs"
     ]
    }
   ],
   "source": [
    "Y = np.array([[0,0,1,1],[0,2,6,1],[0,2,4,2],[23,73,63,11],[63,208,173,41],[73,207,171,27],[66,150,143,7],[26,40,87,29],[17,18,33,12],[3,4,13,6],[2,6,16,5],[1,6,11,3],[0,1,6,5],[0,2,2,2],[0,1,3,0],[0,1,4,6],[0,1,3,0],[2,1,7,1], [1,1,6,2]])\n",
    "PMMH(Y, 999, 100, 100, R=19)"
   ]
  },
  {
   "cell_type": "code",
   "execution_count": null,
   "id": "68d820a0-1679-4c0d-921c-5d03c5f76ba2",
   "metadata": {},
   "outputs": [],
   "source": []
  }
 ],
 "metadata": {
  "kernelspec": {
   "display_name": "Python 3 (ipykernel)",
   "language": "python",
   "name": "python3"
  },
  "language_info": {
   "codemirror_mode": {
    "name": "ipython",
    "version": 3
   },
   "file_extension": ".py",
   "mimetype": "text/x-python",
   "name": "python",
   "nbconvert_exporter": "python",
   "pygments_lexer": "ipython3",
   "version": "3.12.7"
  }
 },
 "nbformat": 4,
 "nbformat_minor": 5
}
