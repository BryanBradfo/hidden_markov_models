{
 "cells": [
  {
   "cell_type": "code",
   "execution_count": 9,
   "id": "b7309b6f-eee7-42c9-8095-293a73aea891",
   "metadata": {},
   "outputs": [],
   "source": [
    "import numpy as np\n",
    "from scipy.stats import binom"
   ]
  },
  {
   "cell_type": "code",
   "execution_count": 10,
   "id": "b4fbdd37-6b38-4187-8552-d4346a8c354b",
   "metadata": {},
   "outputs": [],
   "source": [
    "# Parameters \n",
    "\n",
    "h = 1/7\n",
    "pho = 2/3\n",
    "gamma = 2/3\n",
    "R = 19\n",
    "T = 7*R"
   ]
  },
  {
   "cell_type": "code",
   "execution_count": 11,
   "id": "f6aca22e-b862-46f9-a165-b3a9bfb9d698",
   "metadata": {},
   "outputs": [],
   "source": [
    "#  Effective Sampling Size \n",
    "\n",
    "def ESS(W):                 # Takes an array as argument\n",
    "    return 1/np.sum(W**2)"
   ]
  },
  {
   "cell_type": "code",
   "execution_count": 12,
   "id": "9c60e355-a17c-4d2b-9e4c-c45b933e89a7",
   "metadata": {},
   "outputs": [],
   "source": [
    "# Mutation transition\n",
    "\n",
    "def mutation(k, theta, X, I_matrix):\n",
    "    #\n",
    "    for i in range(7):\n",
    "        S, E, I, R =  X[0], X[1], X[2], X[3]\n",
    "        M = theta[k:k+4]\n",
    "        beta = 1/n * np.dot(M, I_matrix)\n",
    "        B = np.random.binomial(S, 1-np.exp(-h*beta)) \n",
    "        C = np.random.binomial(E, 1-np.exp(-h*pho)) \n",
    "        D = np.random.binomial(I, 1-np.exp(-h*gamma)) \n",
    "        S_new = S - B\n",
    "        E_new = E + B - C\n",
    "        I_new = I + C - D\n",
    "        R_new = R - D\n",
    "        I_matrix = \n",
    "    X_new = [S_new, E_new, I_new, R_new]\n",
    "    return S_new, E_new, I_new, R_new"
   ]
  },
  {
   "cell_type": "code",
   "execution_count": 13,
   "id": "e1cb3ecc-f11e-4776-ba63-f9ad0844b46f",
   "metadata": {},
   "outputs": [],
   "source": [
    "# Likelihood of y knowing theta\n",
    "\n",
    "def likelihood(k, y, theta, X):\n",
    "    C = np.zeros(7)\n",
    "    for i in range(7):\n",
    "        X_new = mutation(k, theta, X)\n",
    "        C[i] = np.random.binomial(X_new[1], 1 - np.exp(-h*pho))\n",
    "    return(binom.pmf(y, np.sum(C), theta[16+k]))"
   ]
  },
  {
   "cell_type": "code",
   "execution_count": 16,
   "id": "3f2cb8e3-9060-4e8f-bc72-801e4fc9fcad",
   "metadata": {},
   "outputs": [],
   "source": [
    "# Initial settings\n",
    "X1 = np.array([948, 0, 1, 0])\n",
    "X2 = np.array([1689, 0, 1, 0])\n",
    "X3 = np.array([3466, 0, 1, 0])\n",
    "X4 = np.array([1894, 0, 1, 0])\n",
    "\n",
    "def BootstrapFilter(y, ESS_min, N, R=19):\n",
    "    X = np.array([X1, X2, X3, X4], N) \n",
    "    thetas = []\n",
    "    w_init = np.zeros((N, 4))\n",
    "    for n in range(N):\n",
    "        theta = np.concatenate(np.random.gamma(5, 1, 16), np.random.normal(0.5, 0.5, 4), axis=None)\n",
    "        thetas.append(theta)\n",
    "        for k in range(4):\n",
    "            w_init[n][k] = likelihood(k, y[0][k], theta, X[n][k])\n",
    "    W_init = np.zeros((N, 4))\n",
    "    for n in range(N):\n",
    "        W_init[n] = np.divide(w_init[n], np.sum(w_init, axis=0))\n",
    "    W = W_init\n",
    "    w = w_init\n",
    "    for r in range(R):\n",
    "        for k in range(4):\n",
    "            if ESS(W[:, k]) < ESS_min:\n",
    "                A = np.random.choice(np.arange(1, N), p=W[:, k])\n",
    "                w_hat = np.ones(N)\n",
    "            else:\n",
    "                A = np.arange(1, N)\n",
    "                w_hat = w\n",
    "            for n in range(N):\n",
    "                thetas[n] = thetas[A[n]]\n",
    "                w[n][k] = w_theta[n] * likelihood(k, y[r][k], thetas[n], X[n][k])\n",
    "                X[n][k] = mutation(k, thetas[n], X[A[n]])\n",
    "        for n in range(N):\n",
    "            W[n] = np.divide(w[n], np.sum(w_init, axis=0))"
   ]
  },
  {
   "cell_type": "code",
   "execution_count": null,
   "id": "ccd77579-da77-4e6b-86af-49d1c285a1f1",
   "metadata": {},
   "outputs": [],
   "source": []
  }
 ],
 "metadata": {
  "kernelspec": {
   "display_name": "Python 3 (ipykernel)",
   "language": "python",
   "name": "python3"
  },
  "language_info": {
   "codemirror_mode": {
    "name": "ipython",
    "version": 3
   },
   "file_extension": ".py",
   "mimetype": "text/x-python",
   "name": "python",
   "nbconvert_exporter": "python",
   "pygments_lexer": "ipython3",
   "version": "3.12.7"
  }
 },
 "nbformat": 4,
 "nbformat_minor": 5
}
