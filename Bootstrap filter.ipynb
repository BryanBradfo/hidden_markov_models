{
 "cells": [
  {
   "cell_type": "code",
   "execution_count": 1,
   "id": "b7309b6f-eee7-42c9-8095-293a73aea891",
   "metadata": {},
   "outputs": [],
   "source": [
    "import numpy as np\n",
    "from scipy.stats import binom"
   ]
  },
  {
   "cell_type": "code",
   "execution_count": 7,
   "id": "b4fbdd37-6b38-4187-8552-d4346a8c354b",
   "metadata": {},
   "outputs": [],
   "source": [
    "# Parameters \n",
    "\n",
    "h = 1/7\n",
    "pho = 2/3\n",
    "gamma = 2/3\n",
    "R = 19\n",
    "T = 7*R"
   ]
  },
  {
   "cell_type": "code",
   "execution_count": 8,
   "id": "f6aca22e-b862-46f9-a165-b3a9bfb9d698",
   "metadata": {},
   "outputs": [],
   "source": [
    "#  Effective Sampling Size \n",
    "\n",
    "def ESS(W):                 # Takes an array as argument\n",
    "    return 1/np.sum(W**2)"
   ]
  },
  {
   "cell_type": "code",
   "execution_count": 9,
   "id": "9c60e355-a17c-4d2b-9e4c-c45b933e89a7",
   "metadata": {},
   "outputs": [],
   "source": [
    "# Mutation transition\n",
    "\n",
    "def mutation(theta, betas, S, E, I, R):\n",
    "    #\n",
    "    M = theta[:16].reshape(4,4)\n",
    "    betas = 1/n * np.dot(M, I)\n",
    "    B = np.random.binomial(S, np.ones(4) - np.exp(-h*betas)) \n",
    "    C = np.random.binomial(E, 1 - np.exp(-h*pho)) \n",
    "    D = np.random.binomial(I, 1 - np.exp(-h*gamma)) \n",
    "    S_new = S - B\n",
    "    E_new = E + B - C\n",
    "    I_new = I + C - D\n",
    "    R_new = R - D\n",
    "    return S_new, E_new, I_new, R_new"
   ]
  },
  {
   "cell_type": "code",
   "execution_count": 10,
   "id": "e1cb3ecc-f11e-4776-ba63-f9ad0844b46f",
   "metadata": {},
   "outputs": [],
   "source": [
    "# Likelihood of y knowing theta\n",
    "\n",
    "def likelihood(y, theta, betas, S, E, I, R):\n",
    "    C = np.zeros(shape=(7, 4))\n",
    "    S_new, E_new, I_new, R_new =  S, E, I, R\n",
    "    for i in range(7):\n",
    "        S_new, E_new, I_new, R_new = mutation(theta, betas, S_new, E_new, I_new, R_new)\n",
    "        C[i] = np.random.binomial(E_new, 1 - np.exp(-h*pho))\n",
    "    return(binom.pmf(y, np.sum(C, axis=0), theta[16:]))"
   ]
  },
  {
   "cell_type": "code",
   "execution_count": null,
   "id": "3f2cb8e3-9060-4e8f-bc72-801e4fc9fcad",
   "metadata": {},
   "outputs": [],
   "source": [
    "# Initial settings\n",
    "S_init = np.array([948, 1689, 3466, 1894])\n",
    "E_init = np.array([0, 0, 0, 0])\n",
    "I_init = np.array([1, 1, 1, 1])\n",
    "R_init = np.array([0, 0, 0, 0])\n",
    "\n",
    "def BootstrapFilter(ESS_min, N, R=19):\n",
    "    thetas = []\n",
    "    for n in range(N):\n",
    "        thetas.append(np.random.gamma(5, 1, 16)+"
   ]
  },
  {
   "cell_type": "code",
   "execution_count": null,
   "id": "76e34b5f-3fb6-4330-9cf3-dce4d2d4f0e7",
   "metadata": {},
   "outputs": [],
   "source": []
  }
 ],
 "metadata": {
  "kernelspec": {
   "display_name": "Python 3 (ipykernel)",
   "language": "python",
   "name": "python3"
  },
  "language_info": {
   "codemirror_mode": {
    "name": "ipython",
    "version": 3
   },
   "file_extension": ".py",
   "mimetype": "text/x-python",
   "name": "python",
   "nbconvert_exporter": "python",
   "pygments_lexer": "ipython3",
   "version": "3.12.7"
  }
 },
 "nbformat": 4,
 "nbformat_minor": 5
}
