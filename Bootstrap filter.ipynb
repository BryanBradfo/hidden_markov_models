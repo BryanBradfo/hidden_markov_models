{
 "cells": [
  {
   "cell_type": "code",
   "execution_count": 274,
   "id": "b7309b6f-eee7-42c9-8095-293a73aea891",
   "metadata": {},
   "outputs": [],
   "source": [
    "import numpy as np\n",
    "from scipy.stats import binom\n",
    "from scipy.stats import truncnorm"
   ]
  },
  {
   "cell_type": "code",
   "execution_count": 276,
   "id": "b4fbdd37-6b38-4187-8552-d4346a8c354b",
   "metadata": {},
   "outputs": [],
   "source": [
    "# Parameters \n",
    "\n",
    "h = 1/7\n",
    "pho = 2/3\n",
    "gamma = 2/3\n",
    "R = 19\n",
    "T = 7*R"
   ]
  },
  {
   "cell_type": "code",
   "execution_count": 280,
   "id": "e9dab135-aa84-4336-a3d8-04856d568a86",
   "metadata": {},
   "outputs": [],
   "source": [
    "def truncated_normal(mean=0.5, sd=0.5, low=0, upp=1):\n",
    "    return truncnorm(\n",
    "        (low - mean) / sd, (upp - mean) / sd, loc=mean, scale=sd)"
   ]
  },
  {
   "cell_type": "code",
   "execution_count": 278,
   "id": "f6aca22e-b862-46f9-a165-b3a9bfb9d698",
   "metadata": {},
   "outputs": [],
   "source": [
    "#  Effective Sampling Size \n",
    "\n",
    "def ESS(W):                 # Takes an array as argument\n",
    "    return 1/np.sum(W**2)"
   ]
  },
  {
   "cell_type": "code",
   "execution_count": 434,
   "id": "9c60e355-a17c-4d2b-9e4c-c45b933e89a7",
   "metadata": {},
   "outputs": [],
   "source": [
    "# Mutation transition\n",
    "\n",
    "def mutation(theta, X):\n",
    "    #\n",
    "    X_new = X\n",
    "    S, E, I, R =  X_new[:, 0], X_new[:, 1], X_new[:, 2], X_new[:, 3]\n",
    "    M = theta[:16].reshape(4,4)\n",
    "    betas = 1/8000 * np.dot(M, I)\n",
    "    B = np.random.binomial(S, np.ones(4)-np.exp(-h*betas)) \n",
    "    C = np.random.binomial(E, 1-np.exp(-h*pho)) \n",
    "    D = np.random.binomial(I, 1-np.exp(-h*gamma)) \n",
    "    S_new = S - B\n",
    "    E_new = E + B - C\n",
    "    I_new = I + C - D\n",
    "    R_new = R + D\n",
    "    X_new[:, 0], X_new[:, 1], X_new[:, 2], X_new[:, 3] = S_new, E_new, I_new, R_new\n",
    "    return X_new"
   ]
  },
  {
   "cell_type": "code",
   "execution_count": 435,
   "id": "e1cb3ecc-f11e-4776-ba63-f9ad0844b46f",
   "metadata": {},
   "outputs": [],
   "source": [
    "# Likelihood of y knowing theta\n",
    "\n",
    "def log_likelihood(y, theta, X):\n",
    "    C = np.zeros((7,4))\n",
    "    for i in range(7):\n",
    "        X = mutation(theta, X)\n",
    "        C[i] = np.random.binomial(X[:, 1], 1-np.exp(-h*pho))\n",
    "    return(np.log(binom.pmf(y, np.sum(C, axis=0), theta[16:])+1.5))"
   ]
  },
  {
   "cell_type": "code",
   "execution_count": 436,
   "id": "3f2cb8e3-9060-4e8f-bc72-801e4fc9fcad",
   "metadata": {},
   "outputs": [],
   "source": [
    "# Initial settings\n",
    "X1 = np.array([948, 0, 1, 0])\n",
    "X2 = np.array([1689, 0, 1, 0])\n",
    "X3 = np.array([3466, 0, 1, 0])\n",
    "X4 = np.array([1894, 0, 1, 0])\n",
    "\n",
    "def BootstrapFilter(y, ESS_min, N, R=19):\n",
    "    X = np.array([[X1, X2, X3, X4] for i in range(N)]) \n",
    "    thetas = []\n",
    "    w_init = np.zeros((N, 4))\n",
    "    for n in range(N):\n",
    "        theta = np.concatenate((np.random.gamma(5, 1, 16), truncated_normal(mean=0.5, sd=0.5, low=0, upp=1).rvs(4)), axis=None)\n",
    "        thetas.append(theta)\n",
    "        w_init[n] = log_likelihood(y[0], theta, X[n])\n",
    "    W_init = np.zeros((N, 4))\n",
    "    for n in range(N):\n",
    "        W_init[n] = np.divide(w_init[n], np.sum(w_init, axis=0))\n",
    "    W = W_init\n",
    "    w = w_init\n",
    "    for r in range(R):\n",
    "        #print(X)\n",
    "        w_hats = np.zeros((N,4))\n",
    "        #print(w)\n",
    "        for k in range(4):\n",
    "            #print(k, W[:, k], ESS(W[:, k]))\n",
    "            if ESS(W[:, k]) < ESS_min:\n",
    "                A = np.random.choice(np.arange(0, N), size=N, p=W[:, k])\n",
    "                print(A)\n",
    "                w_hat = np.zeros(N)\n",
    "            else:\n",
    "                A = np.arange(0, N)\n",
    "                w_hat = w[:, k]\n",
    "            for n in range(N):\n",
    "                thetas[n][k:k+4] = thetas[A[n]][k:k+4]\n",
    "                thetas[n][16+k] = thetas[A[n]][16+k]\n",
    "                X[n][k] = X[A[n]][k]\n",
    "            w_hats[:, k] = w_hat\n",
    "        for n in range(N):\n",
    "            w[n] = w_hats[n]+log_likelihood(y[r], thetas[n], X[n])\n",
    "            for i in range(7):\n",
    "                X[n] = mutation(thetas[n], X[n])\n",
    "        for n in range(N):\n",
    "            W[n] = np.divide(w[n], np.sum(w, axis=0))\n",
    "    print(X)"
   ]
  },
  {
   "cell_type": "code",
   "execution_count": 437,
   "id": "8dbc3fe1-cc22-4162-b368-81e9e97bf560",
   "metadata": {},
   "outputs": [
    {
     "name": "stdout",
     "output_type": "stream",
     "text": [
      "[[[   1    0    0  948]\n",
      "  [   3    0    0 1687]\n",
      "  [   2    0    0 3465]\n",
      "  [   7    0    0 1888]]\n",
      "\n",
      " [[   2    0    0  947]\n",
      "  [   0    0    0 1690]\n",
      "  [   0    0    0 3467]\n",
      "  [   1    0    0 1894]]\n",
      "\n",
      " [[   0    0    0  949]\n",
      "  [   0    0    0 1690]\n",
      "  [   2    0    0 3465]\n",
      "  [   0    0    0 1895]]\n",
      "\n",
      " ...\n",
      "\n",
      " [[   0    0    0  949]\n",
      "  [   8    0    0 1682]\n",
      "  [   0    0    0 3467]\n",
      "  [   0    0    0 1895]]\n",
      "\n",
      " [[   0    0    0  949]\n",
      "  [  15    0    0 1675]\n",
      "  [   0    0    0 3467]\n",
      "  [   1    0    0 1894]]\n",
      "\n",
      " [[   0    0    0  949]\n",
      "  [   0    0    0 1690]\n",
      "  [   0    0    0 3467]\n",
      "  [   7    0    0 1888]]]\n"
     ]
    }
   ],
   "source": [
    "Y = np.array([[0,0,1,1],[0,2,6,1],[0,2,4,2],[23,73,63,11],[63,208,173,41],[73,207,171,27],[66,150,143,7],[26,40,87,29],[17,18,33,12],[3,4,13,6],[2,6,16,5],[1,6,11,3],[0,1,6,5],[0,2,2,2],[0,1,3,0],[0,1,4,6],[0,1,3,0],[2,1,7,1], [1,1,6,2]])\n",
    "BootstrapFilter(Y, 3, 100, R=19)"
   ]
  },
  {
   "cell_type": "code",
   "execution_count": null,
   "id": "2d2c6378-3b99-4673-b872-8388104a45f0",
   "metadata": {},
   "outputs": [],
   "source": []
  },
  {
   "cell_type": "code",
   "execution_count": null,
   "id": "8e5296d8-dfc9-4885-8e53-066a78492efa",
   "metadata": {},
   "outputs": [],
   "source": []
  }
 ],
 "metadata": {
  "kernelspec": {
   "display_name": "Python 3 (ipykernel)",
   "language": "python",
   "name": "python3"
  },
  "language_info": {
   "codemirror_mode": {
    "name": "ipython",
    "version": 3
   },
   "file_extension": ".py",
   "mimetype": "text/x-python",
   "name": "python",
   "nbconvert_exporter": "python",
   "pygments_lexer": "ipython3",
   "version": "3.12.7"
  }
 },
 "nbformat": 4,
 "nbformat_minor": 5
}
