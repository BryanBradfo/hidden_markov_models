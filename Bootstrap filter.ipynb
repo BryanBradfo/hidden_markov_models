{
 "cells": [
  {
   "cell_type": "code",
   "execution_count": 1,
   "id": "b7309b6f-eee7-42c9-8095-293a73aea891",
   "metadata": {},
   "outputs": [],
   "source": [
    "import numpy as np\n",
    "from scipy.stats import binom"
   ]
  },
  {
   "cell_type": "code",
   "execution_count": 7,
   "id": "b4fbdd37-6b38-4187-8552-d4346a8c354b",
   "metadata": {},
   "outputs": [],
   "source": [
    "# Parameters \n",
    "\n",
    "h = 1/7\n",
    "pho = 2/3\n",
    "gamma = 2/3\n",
    "R = 19\n",
    "T = 7*R"
   ]
  },
  {
   "cell_type": "code",
   "execution_count": 8,
   "id": "f6aca22e-b862-46f9-a165-b3a9bfb9d698",
   "metadata": {},
   "outputs": [],
   "source": [
    "#  Effective Sampling Size \n",
    "\n",
    "def ESS(W):                 # Takes an array as argument\n",
    "    return 1/np.sum(W**2)"
   ]
  },
  {
   "cell_type": "code",
   "execution_count": 14,
   "id": "9c60e355-a17c-4d2b-9e4c-c45b933e89a7",
   "metadata": {},
   "outputs": [],
   "source": [
    "# Mutation transition\n",
    "\n",
    "def mutation(theta, k, S, E, I, R):\n",
    "    #\n",
    "    M = theta[k:k+4]\n",
    "    beta = 1/n * np.dot(M, I)\n",
    "    B = np.random.binomial(S, 1 - np.exp(-h*beta)) \n",
    "    C = np.random.binomial(E, 1 - np.exp(-h*pho)) \n",
    "    D = np.random.binomial(I, 1 - np.exp(-h*gamma)) \n",
    "    S_new = S - B\n",
    "    E_new = E + B - C\n",
    "    I_new = I + C - D\n",
    "    R_new = R - D\n",
    "    return S_new, E_new, I_new, R_new"
   ]
  },
  {
   "cell_type": "code",
   "execution_count": 15,
   "id": "e1cb3ecc-f11e-4776-ba63-f9ad0844b46f",
   "metadata": {},
   "outputs": [],
   "source": [
    "# Likelihood of y knowing theta\n",
    "\n",
    "def likelihood(y, theta, k, S, E, I, R):\n",
    "    C = np.zeros(shape=(7, 4))\n",
    "    S_new, E_new, I_new, R_new =  S, E, I, R\n",
    "    for i in range(7):\n",
    "        S_new[k], E_new[k], I_new[k], R_new[k] = mutation(theta, k, S_new, E_new, I_new, R_new)\n",
    "        C[i] = np.random.binomial(E_new, 1 - np.exp(-h*pho))\n",
    "    return(binom.pmf(y, np.sum(C, axis=0), theta[16:]))"
   ]
  },
  {
   "cell_type": "code",
   "execution_count": null,
   "id": "3f2cb8e3-9060-4e8f-bc72-801e4fc9fcad",
   "metadata": {},
   "outputs": [],
   "source": [
    "# Initial settings\n",
    "S_init = np.array([948, 1689, 3466, 1894])\n",
    "E_init = np.array([0, 0, 0, 0])\n",
    "I_init = np.array([1, 1, 1, 1])\n",
    "R_init = np.array([0, 0, 0, 0])\n",
    "\n",
    "def BootstrapFilter(y, N, R=19, ESS_min):\n",
    "    S, E, I, R = S_init, E_init, I_init, R_init\n",
    "    thetas = []\n",
    "    w_init = np.zeros((N, 4))\n",
    "    for n in range(N):\n",
    "        theta = np.concatenate(np.random.gamma(5, 1, 16), np.random.normal(0.5, 0.5, 4), axis=None)\n",
    "        thetas.append(theta)\n",
    "        w_init[n] = likelihood(y, theta, S, E, I, R)\n",
    "    W_init = np.zeros((N, 4))\n",
    "    for n in range(N):\n",
    "        W_init[n] = np.divide(w_init[n], np.sum(w_init, axis=0))\n",
    "    W = W_init\n",
    "    X = \n",
    "    for r in range(R):\n",
    "        for k in range(4):\n",
    "            if ESS(W[:, k]) < ESS_min:\n",
    "                A = np.random.choice(np.arange(1, N), p=W[:, k])\n",
    "                w_hat = np.ones(N)\n",
    "            else:\n",
    "                A = np.arange(1, N)\n",
    "                w_hat = w\n",
    "        for n in range(N):           \n",
    "            "
   ]
  }
 ],
 "metadata": {
  "kernelspec": {
   "display_name": "Python 3 (ipykernel)",
   "language": "python",
   "name": "python3"
  },
  "language_info": {
   "codemirror_mode": {
    "name": "ipython",
    "version": 3
   },
   "file_extension": ".py",
   "mimetype": "text/x-python",
   "name": "python",
   "nbconvert_exporter": "python",
   "pygments_lexer": "ipython3",
   "version": "3.12.7"
  }
 },
 "nbformat": 4,
 "nbformat_minor": 5
}
